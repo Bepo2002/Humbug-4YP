{
  "nbformat": 4,
  "nbformat_minor": 0,
  "metadata": {
    "colab": {
      "provenance": [],
      "mount_file_id": "1U2Lxf0G-7OiyMQYs7Nyanh_3ttyqJHpe",
      "authorship_tag": "ABX9TyNvFfX80HB4f85mKBtGUXzN",
      "include_colab_link": true
    },
    "kernelspec": {
      "name": "python3",
      "display_name": "Python 3"
    },
    "language_info": {
      "name": "python"
    }
  },
  "cells": [
    {
      "cell_type": "markdown",
      "metadata": {
        "id": "view-in-github",
        "colab_type": "text"
      },
      "source": [
        "<a href=\"https://colab.research.google.com/github/Bepo2002/Humbug-4YP/blob/main/Test_bench.ipynb\" target=\"_parent\"><img src=\"https://colab.research.google.com/assets/colab-badge.svg\" alt=\"Open In Colab\"/></a>"
      ]
    },
    {
      "cell_type": "markdown",
      "source": [
        "# Mosquito Virtual Test Bench V1.1"
      ],
      "metadata": {
        "id": "YjQ6ZtzQ3HGq"
      }
    },
    {
      "cell_type": "code",
      "execution_count": null,
      "metadata": {
        "id": "crrjOOZ0p3bM"
      },
      "outputs": [],
      "source": [
        "import zipfile\n",
        "from scipy.io import wavfile\n",
        "import pandas as pd\n",
        "import numpy as np\n",
        "import matplotlib.pyplot as plt\n",
        "from IPython.display import Audio\n",
        "import librosa\n",
        "from scipy.stats.mstats import winsorize"
      ]
    },
    {
      "cell_type": "markdown",
      "source": [
        "## Helper Functions"
      ],
      "metadata": {
        "id": "-OUM1ZRZ3SDD"
      }
    },
    {
      "cell_type": "code",
      "source": [
        "# Finds specific sound in zip and extracts it\n",
        "def extract_sound(filename):\n",
        "  zip_files = ['./drive/MyDrive/4YP/train.zip','./drive/MyDrive/4YP/dev.zip']\n",
        "  folders = ['train/', 'dev/a/', 'dev/b/']\n",
        "  dest_dir = './drive/MyDrive/4YP/Data'\n",
        "  filename_to_extract = str(filename) + '.wav'\n",
        "\n",
        "  for zip_path in zip_files:\n",
        "    for folder in folders:\n",
        "      with zipfile.ZipFile(zip_path, 'r') as zip_ref:\n",
        "        filename_to_extract = folder + filename_to_extract\n",
        "        if filename_to_extract in zip_ref.namelist():\n",
        "          zip_ref.extract(filename_to_extract, dest_dir)\n",
        "          print(f\"{filename_to_extract} has been extracted to {dest_dir}\")\n",
        "          final = './drive/MyDrive/4YP/Data/'+ filename_to_extract\n",
        "          return wavfile.read(final)\n",
        "  print(f\"{filename_to_extract} not found in any of the provided ZIP files.\")\n",
        "\n",
        "# Read in .csv\n",
        "def csv_read():\n",
        "  metadata = pd.read_csv('./drive/MyDrive/4YP/Data/humbugdb_meta.csv')\n",
        "  metadata = metadata.set_index('id')\n",
        "  return metadata\n",
        "\n",
        "def gaussian(x, mu, sigma):\n",
        "  return np.exp(-((x - mu)**2) / (2 * sigma**2))"
      ],
      "metadata": {
        "id": "DuZugTaguEw3"
      },
      "execution_count": null,
      "outputs": []
    },
    {
      "cell_type": "markdown",
      "source": [
        "## Mosquito Mixer (see Audio_mix_test)"
      ],
      "metadata": {
        "id": "IPNlXhKG3VpS"
      }
    },
    {
      "cell_type": "code",
      "source": [
        "# Full function for generating noise + mosquito\n",
        "def long_sound_gen(mos_num,noise_factor=1):\n",
        "  metadata = csv_read()\n",
        "\n",
        "  # Choose a long noise sound\n",
        "  subset = metadata[metadata['sound_type'] == 'background']\n",
        "  subset = subset.loc[metadata['length'] > 30]\n",
        "  subset = subset.loc[metadata['sample_rate'] == 44100]\n",
        "  sel_noise = subset.sample()\n",
        "  noise_id = sel_noise.index.values[0]\n",
        "\n",
        "  # Extract the sound wave and find samplerate\n",
        "  n_samplerate, noise = extract_sound(noise_id)\n",
        "\n",
        "  # Choose a shorter mosquito sound\n",
        "  subset = metadata[metadata['sound_type'] == 'mosquito']\n",
        "  subset = subset.loc[(metadata['length'] < 10) & (metadata['length'] > 3)]\n",
        "  subset = subset.loc[metadata['sample_rate'] == 44100]\n",
        "  sel_mos = subset.sample()\n",
        "  mos_id = sel_mos.index.values[0]\n",
        "\n",
        "  # Import the sound wave and find samplerate\n",
        "  samplerate, data = extract_sound(mos_id)\n",
        "\n",
        "\n",
        "  # Add sound to random time in noise\n",
        "  # Initilise vectors to store new audio and whether each sample is from mosquito or noise\n",
        "  new_audio = np.zeros(noise.size)\n",
        "  sound_cat = np.zeros(noise.size)\n",
        "  old_audio = np.zeros(noise.size)\n",
        "\n",
        "  for i in range(0,mos_num):\n",
        "\n",
        "    # Choose a 'time' to put the middle of mosquito sound wave\n",
        "    mosquito_time = np.random.randint(data.size//2, high=noise.size-data.size//2, dtype=int)\n",
        "    print(\"Adding mosquito noise at \" + str(round(mosquito_time/samplerate,3)) + \"s\")\n",
        "\n",
        "    # Put wave into long array\n",
        "    new_audio[mosquito_time - data.size//2:(mosquito_time - data.size//2)+data.size] = data\n",
        "    sound_cat[mosquito_time - data.size//2:mosquito_time + data.size//2] = 1\n",
        "\n",
        "    # Generate gaussian in same place as mos audio\n",
        "    x = np.linspace(0,noise.size,noise.size,dtype=int)\n",
        "    y = gaussian(x,mosquito_time,data.size/6)\n",
        "\n",
        "    # Multiply to apply gaussian to audio\n",
        "    old_audio = y*new_audio + old_audio\n",
        "\n",
        "  # Add faded mosquito sound to background noise\n",
        "  full_audio = noise*noise_factor + old_audio\n",
        "\n",
        "  return full_audio, samplerate, sound_cat"
      ],
      "metadata": {
        "id": "l5AaLLIUuE-3"
      },
      "execution_count": null,
      "outputs": []
    },
    {
      "cell_type": "markdown",
      "source": [
        "## Audio chopper"
      ],
      "metadata": {
        "id": "0c2MHgwA3huG"
      }
    },
    {
      "cell_type": "code",
      "source": [
        "# Function for chopping up audio and forming matrix (each row is a clip, each column a sample)\n",
        "def chop_chop(audio,samplerate,seconds_per_clip=1):\n",
        "  # Choose bin size (default 1 second clip)\n",
        "  bin_size = int(samplerate*seconds_per_clip)\n",
        "\n",
        "  # Reshape Data\n",
        "  rows = int(audio.size/bin_size)\n",
        "  audio = audio[:rows*bin_size]\n",
        "  audio = np.reshape(audio,(rows,bin_size))\n",
        "  audio = np.concatenate((audio,np.zeros((rows,1))),axis=1)\n",
        "  return audio"
      ],
      "metadata": {
        "id": "JFMldNkZvwgI"
      },
      "execution_count": null,
      "outputs": []
    },
    {
      "cell_type": "markdown",
      "source": [
        "## Binarizer"
      ],
      "metadata": {
        "id": "sElx-rFg1WDZ"
      }
    },
    {
      "cell_type": "code",
      "source": [
        "def binarize(input_array):\n",
        "  for i in range(len(input_array)):\n",
        "    if input_array[i] > 0.2:\n",
        "      input_array[i] = 1\n",
        "    else:\n",
        "      input_array[i] = 0\n",
        "\n",
        "\n",
        "  return input_array\n"
      ],
      "metadata": {
        "id": "DNztQOdr1ZZ3"
      },
      "execution_count": null,
      "outputs": []
    },
    {
      "cell_type": "markdown",
      "source": [
        "## MFCC Generation"
      ],
      "metadata": {
        "id": "Ci2DU7fh3pZ1"
      }
    },
    {
      "cell_type": "code",
      "source": [
        "# Function to generate MFCCs for one long mixed audio\n",
        "def generate_training_data(mosquitoness=2, noise_factor=0.5, chop_size=1, n_mfcc=10):\n",
        "  # Create the long mixed audio (mosquito + noise)\n",
        "  full_audio, samplerate, sound_cat = long_sound_gen(mosquitoness,noise_factor)\n",
        "\n",
        "  audio_normal = winsorize(full_audio)\n",
        "\n",
        "  # Chop audio into X second clips\n",
        "  chopped_audio = chop_chop(audio_normal,samplerate,chop_size)\n",
        "\n",
        "  # Create an average 'mosquitoness' of each clip\n",
        "  chopped_cat = chop_chop(sound_cat,samplerate,chop_size)\n",
        "  av_chopped_cat = np.mean(chopped_cat,axis=1)\n",
        "\n",
        "  # Binarize\n",
        "  #chopped_audio, av_chopped_cat = binarize(chopped_audio, av_chopped_cat)\n",
        "\n",
        "  # Generate MFCCs for each 1s clip (squeeze as librosa function generates in 2D for some reason)\n",
        "  mfccs = np.zeros((len(chopped_audio),n_mfcc))\n",
        "  for i in range(0,len(chopped_audio)):\n",
        "    test_var = np.squeeze(librosa.feature.mfcc(y=chopped_audio[i].astype(float), sr=samplerate, n_mfcc = n_mfcc, hop_length = len(chopped_audio[i])*2))\n",
        "    mfccs[i] = test_var\n",
        "\n",
        "\n",
        "\n",
        "  # Returns a number of seconds in audio x n_mfcc matrix and an array of sound category (how much mosquito) in each X second chop\n",
        "  return mfccs, av_chopped_cat"
      ],
      "metadata": {
        "id": "DkTwE4AivACO"
      },
      "execution_count": null,
      "outputs": []
    },
    {
      "cell_type": "code",
      "source": [
        "# Generates training data for several long audio segments\n",
        "def multiple_training_data(amount_of_audio, mosquitoness=2, noise_factor=0.5, chop_size=1, n_mfcc=10):\n",
        "  X, Y = generate_training_data(mosquitoness, noise_factor, chop_size, n_mfcc)\n",
        "  for i in range(0,amount_of_audio-1):\n",
        "    mfccs, av_chopped_cat = generate_training_data()\n",
        "    X = np.concatenate((X,mfccs))\n",
        "    Y = np.concatenate((Y,av_chopped_cat))\n",
        "  return X,Y\n",
        "\n",
        "def multiple_training_random_noise(amount_of_audio, mosquitoness=2, chop_size=1, n_mfcc=10):\n",
        "  X, Y = generate_training_data(mosquitoness, noise_factor=np.random.uniform(low=0.1, high=0.5))\n",
        "  for i in range(0,amount_of_audio-1):\n",
        "    mfccs, av_chopped_cat = generate_training_data(mosquitoness, noise_factor=np.random.uniform(low=0.1, high=0.5))\n",
        "    X = np.concatenate((X,mfccs))\n",
        "    Y = np.concatenate((Y,av_chopped_cat))\n",
        "  return X,Y\n",
        "\n",
        "np.random.seed(0)\n",
        "coef, cats = multiple_training_random_noise(100,mosquitoness=2)\n",
        "\n",
        "print(\"MFCC Matrix shape:\" + str(coef.shape))\n",
        "print(\"Mosquitoness Matrix shape:\" + str(cats.shape))"
      ],
      "metadata": {
        "colab": {
          "base_uri": "https://localhost:8080/"
        },
        "id": "_V5DE1h4z0EV",
        "outputId": "78042c80-7390-4509-d4e6-f693a6663cab"
      },
      "execution_count": null,
      "outputs": [
        {
          "output_type": "stream",
          "name": "stdout",
          "text": [
            "train/219994.wav has been extracted to ./drive/MyDrive/4YP/Data\n",
            "train/2924.wav has been extracted to ./drive/MyDrive/4YP/Data\n",
            "Adding mosquito noise at 34.073s\n",
            "Adding mosquito noise at 39.605s\n",
            "train/220038.wav has been extracted to ./drive/MyDrive/4YP/Data\n",
            "train/2628.wav has been extracted to ./drive/MyDrive/4YP/Data\n",
            "Adding mosquito noise at 48.526s\n",
            "Adding mosquito noise at 53.792s\n",
            "train/201672.wav has been extracted to ./drive/MyDrive/4YP/Data\n",
            "train/220281.wav has been extracted to ./drive/MyDrive/4YP/Data\n",
            "Adding mosquito noise at 5.748s\n",
            "Adding mosquito noise at 16.981s\n",
            "train/220007.wav has been extracted to ./drive/MyDrive/4YP/Data\n",
            "train/223222.wav has been extracted to ./drive/MyDrive/4YP/Data\n",
            "Adding mosquito noise at 24.43s\n",
            "Adding mosquito noise at 9.215s\n",
            "train/220037.wav has been extracted to ./drive/MyDrive/4YP/Data\n",
            "train/221032.wav has been extracted to ./drive/MyDrive/4YP/Data\n",
            "Adding mosquito noise at 78.915s\n",
            "Adding mosquito noise at 29.552s\n",
            "train/220032.wav has been extracted to ./drive/MyDrive/4YP/Data\n",
            "train/1126.wav has been extracted to ./drive/MyDrive/4YP/Data\n",
            "Adding mosquito noise at 13.327s\n",
            "Adding mosquito noise at 25.796s\n",
            "train/201546.wav has been extracted to ./drive/MyDrive/4YP/Data\n",
            "train/2853.wav has been extracted to ./drive/MyDrive/4YP/Data\n",
            "Adding mosquito noise at 10.032s\n",
            "Adding mosquito noise at 21.171s\n",
            "train/220014.wav has been extracted to ./drive/MyDrive/4YP/Data\n",
            "train/220917.wav has been extracted to ./drive/MyDrive/4YP/Data\n",
            "Adding mosquito noise at 30.992s\n",
            "Adding mosquito noise at 15.764s\n",
            "train/220030.wav has been extracted to ./drive/MyDrive/4YP/Data\n",
            "train/221828.wav has been extracted to ./drive/MyDrive/4YP/Data\n",
            "Adding mosquito noise at 44.753s\n",
            "Adding mosquito noise at 14.718s\n",
            "train/202153.wav has been extracted to ./drive/MyDrive/4YP/Data\n",
            "train/3195.wav has been extracted to ./drive/MyDrive/4YP/Data\n",
            "Adding mosquito noise at 3.386s\n",
            "Adding mosquito noise at 20.482s\n",
            "train/220034.wav has been extracted to ./drive/MyDrive/4YP/Data\n",
            "train/827.wav has been extracted to ./drive/MyDrive/4YP/Data\n",
            "Adding mosquito noise at 14.365s\n",
            "Adding mosquito noise at 51.456s\n",
            "train/219985.wav has been extracted to ./drive/MyDrive/4YP/Data\n",
            "train/222564.wav has been extracted to ./drive/MyDrive/4YP/Data\n",
            "Adding mosquito noise at 12.806s\n",
            "Adding mosquito noise at 5.196s\n",
            "train/219971.wav has been extracted to ./drive/MyDrive/4YP/Data\n",
            "train/221432.wav has been extracted to ./drive/MyDrive/4YP/Data\n",
            "Adding mosquito noise at 31.37s\n",
            "Adding mosquito noise at 32.485s\n",
            "train/219984.wav has been extracted to ./drive/MyDrive/4YP/Data\n",
            "train/220428.wav has been extracted to ./drive/MyDrive/4YP/Data\n",
            "Adding mosquito noise at 41.441s\n",
            "Adding mosquito noise at 31.927s\n",
            "train/202156.wav has been extracted to ./drive/MyDrive/4YP/Data\n",
            "train/222244.wav has been extracted to ./drive/MyDrive/4YP/Data\n",
            "Adding mosquito noise at 25.356s\n",
            "Adding mosquito noise at 15.736s\n",
            "train/202103.wav has been extracted to ./drive/MyDrive/4YP/Data\n",
            "train/3520.wav has been extracted to ./drive/MyDrive/4YP/Data\n",
            "Adding mosquito noise at 4.725s\n",
            "Adding mosquito noise at 13.301s\n",
            "train/202171.wav has been extracted to ./drive/MyDrive/4YP/Data\n",
            "train/220293.wav has been extracted to ./drive/MyDrive/4YP/Data\n",
            "Adding mosquito noise at 26.472s\n",
            "Adding mosquito noise at 17.178s\n",
            "train/220038.wav has been extracted to ./drive/MyDrive/4YP/Data\n",
            "train/2875.wav has been extracted to ./drive/MyDrive/4YP/Data\n",
            "Adding mosquito noise at 64.751s\n",
            "Adding mosquito noise at 63.9s\n",
            "train/219964.wav has been extracted to ./drive/MyDrive/4YP/Data\n",
            "train/220670.wav has been extracted to ./drive/MyDrive/4YP/Data\n",
            "Adding mosquito noise at 19.685s\n",
            "Adding mosquito noise at 29.335s\n",
            "train/219967.wav has been extracted to ./drive/MyDrive/4YP/Data\n",
            "train/220304.wav has been extracted to ./drive/MyDrive/4YP/Data\n",
            "Adding mosquito noise at 19.715s\n",
            "Adding mosquito noise at 4.006s\n",
            "train/220038.wav has been extracted to ./drive/MyDrive/4YP/Data\n",
            "train/220514.wav has been extracted to ./drive/MyDrive/4YP/Data\n",
            "Adding mosquito noise at 56.06s\n",
            "Adding mosquito noise at 10.479s\n",
            "train/223291.wav has been extracted to ./drive/MyDrive/4YP/Data\n",
            "train/1481.wav has been extracted to ./drive/MyDrive/4YP/Data\n",
            "Adding mosquito noise at 25.51s\n",
            "Adding mosquito noise at 27.706s\n",
            "train/202189.wav has been extracted to ./drive/MyDrive/4YP/Data\n",
            "train/221285.wav has been extracted to ./drive/MyDrive/4YP/Data\n",
            "Adding mosquito noise at 13.344s\n",
            "Adding mosquito noise at 8.251s\n",
            "train/219953.wav has been extracted to ./drive/MyDrive/4YP/Data\n",
            "train/2727.wav has been extracted to ./drive/MyDrive/4YP/Data\n",
            "Adding mosquito noise at 26.605s\n",
            "Adding mosquito noise at 88.083s\n",
            "train/220006.wav has been extracted to ./drive/MyDrive/4YP/Data\n",
            "train/221616.wav has been extracted to ./drive/MyDrive/4YP/Data\n",
            "Adding mosquito noise at 30.224s\n",
            "Adding mosquito noise at 26.531s\n",
            "train/220020.wav has been extracted to ./drive/MyDrive/4YP/Data\n",
            "train/2536.wav has been extracted to ./drive/MyDrive/4YP/Data\n",
            "Adding mosquito noise at 52.223s\n",
            "Adding mosquito noise at 19.154s\n",
            "train/202028.wav has been extracted to ./drive/MyDrive/4YP/Data\n",
            "train/2872.wav has been extracted to ./drive/MyDrive/4YP/Data\n",
            "Adding mosquito noise at 10.27s\n",
            "Adding mosquito noise at 15.119s\n",
            "train/220000.wav has been extracted to ./drive/MyDrive/4YP/Data\n",
            "train/3216.wav has been extracted to ./drive/MyDrive/4YP/Data\n",
            "Adding mosquito noise at 37.319s\n",
            "Adding mosquito noise at 34.792s\n",
            "train/202050.wav has been extracted to ./drive/MyDrive/4YP/Data\n",
            "train/3518.wav has been extracted to ./drive/MyDrive/4YP/Data\n",
            "Adding mosquito noise at 30.501s\n",
            "Adding mosquito noise at 31.184s\n",
            "train/202068.wav has been extracted to ./drive/MyDrive/4YP/Data\n",
            "train/3037.wav has been extracted to ./drive/MyDrive/4YP/Data\n",
            "Adding mosquito noise at 33.952s\n",
            "Adding mosquito noise at 20.026s\n",
            "train/219951.wav has been extracted to ./drive/MyDrive/4YP/Data\n",
            "train/220448.wav has been extracted to ./drive/MyDrive/4YP/Data\n",
            "Adding mosquito noise at 8.258s\n",
            "Adding mosquito noise at 38.107s\n",
            "train/219995.wav has been extracted to ./drive/MyDrive/4YP/Data\n",
            "train/3210.wav has been extracted to ./drive/MyDrive/4YP/Data\n",
            "Adding mosquito noise at 19.194s\n",
            "Adding mosquito noise at 26.937s\n",
            "train/201993.wav has been extracted to ./drive/MyDrive/4YP/Data\n",
            "train/3348.wav has been extracted to ./drive/MyDrive/4YP/Data\n",
            "Adding mosquito noise at 22.16s\n",
            "Adding mosquito noise at 19.712s\n",
            "train/219956.wav has been extracted to ./drive/MyDrive/4YP/Data\n",
            "train/4217.wav has been extracted to ./drive/MyDrive/4YP/Data\n",
            "Adding mosquito noise at 4.94s\n",
            "Adding mosquito noise at 14.983s\n",
            "train/220011.wav has been extracted to ./drive/MyDrive/4YP/Data\n",
            "train/2660.wav has been extracted to ./drive/MyDrive/4YP/Data\n",
            "Adding mosquito noise at 40.117s\n",
            "Adding mosquito noise at 20.345s\n",
            "train/220035.wav has been extracted to ./drive/MyDrive/4YP/Data\n",
            "train/974.wav has been extracted to ./drive/MyDrive/4YP/Data\n",
            "Adding mosquito noise at 14.988s\n",
            "Adding mosquito noise at 21.326s\n",
            "train/201160.wav has been extracted to ./drive/MyDrive/4YP/Data\n",
            "train/220894.wav has been extracted to ./drive/MyDrive/4YP/Data\n",
            "Adding mosquito noise at 18.182s\n",
            "Adding mosquito noise at 21.376s\n",
            "train/202189.wav has been extracted to ./drive/MyDrive/4YP/Data\n",
            "train/3533.wav has been extracted to ./drive/MyDrive/4YP/Data\n",
            "Adding mosquito noise at 20.415s\n",
            "Adding mosquito noise at 2.042s\n",
            "train/219978.wav has been extracted to ./drive/MyDrive/4YP/Data\n",
            "train/220549.wav has been extracted to ./drive/MyDrive/4YP/Data\n",
            "Adding mosquito noise at 21.568s\n",
            "Adding mosquito noise at 20.28s\n",
            "train/219987.wav has been extracted to ./drive/MyDrive/4YP/Data\n",
            "train/2983.wav has been extracted to ./drive/MyDrive/4YP/Data\n",
            "Adding mosquito noise at 6.19s\n",
            "Adding mosquito noise at 9.009s\n",
            "train/220015.wav has been extracted to ./drive/MyDrive/4YP/Data\n",
            "train/1181.wav has been extracted to ./drive/MyDrive/4YP/Data\n",
            "Adding mosquito noise at 10.34s\n",
            "Adding mosquito noise at 17.823s\n",
            "train/219987.wav has been extracted to ./drive/MyDrive/4YP/Data\n",
            "train/220354.wav has been extracted to ./drive/MyDrive/4YP/Data\n",
            "Adding mosquito noise at 5.439s\n",
            "Adding mosquito noise at 15.416s\n",
            "train/220026.wav has been extracted to ./drive/MyDrive/4YP/Data\n",
            "train/221320.wav has been extracted to ./drive/MyDrive/4YP/Data\n",
            "Adding mosquito noise at 3.369s\n",
            "Adding mosquito noise at 58.963s\n",
            "train/220034.wav has been extracted to ./drive/MyDrive/4YP/Data\n",
            "train/1175.wav has been extracted to ./drive/MyDrive/4YP/Data\n",
            "Adding mosquito noise at 35.438s\n",
            "Adding mosquito noise at 29.74s\n",
            "train/220038.wav has been extracted to ./drive/MyDrive/4YP/Data\n",
            "train/222559.wav has been extracted to ./drive/MyDrive/4YP/Data\n",
            "Adding mosquito noise at 7.076s\n",
            "Adding mosquito noise at 33.615s\n",
            "train/201192.wav has been extracted to ./drive/MyDrive/4YP/Data\n",
            "train/3492.wav has been extracted to ./drive/MyDrive/4YP/Data\n",
            "Adding mosquito noise at 20.657s\n",
            "Adding mosquito noise at 11.937s\n",
            "train/220023.wav has been extracted to ./drive/MyDrive/4YP/Data\n",
            "train/221476.wav has been extracted to ./drive/MyDrive/4YP/Data\n",
            "Adding mosquito noise at 9.159s\n",
            "Adding mosquito noise at 56.137s\n",
            "train/201672.wav has been extracted to ./drive/MyDrive/4YP/Data\n",
            "train/3208.wav has been extracted to ./drive/MyDrive/4YP/Data\n",
            "Adding mosquito noise at 13.244s\n",
            "Adding mosquito noise at 6.354s\n",
            "train/219996.wav has been extracted to ./drive/MyDrive/4YP/Data\n",
            "train/3152.wav has been extracted to ./drive/MyDrive/4YP/Data\n",
            "Adding mosquito noise at 15.365s\n",
            "Adding mosquito noise at 23.639s\n",
            "train/219996.wav has been extracted to ./drive/MyDrive/4YP/Data\n",
            "train/1754.wav has been extracted to ./drive/MyDrive/4YP/Data\n",
            "Adding mosquito noise at 6.177s\n",
            "Adding mosquito noise at 42.151s\n",
            "train/202177.wav has been extracted to ./drive/MyDrive/4YP/Data\n",
            "train/221490.wav has been extracted to ./drive/MyDrive/4YP/Data\n",
            "Adding mosquito noise at 22.636s\n",
            "Adding mosquito noise at 26.549s\n",
            "train/219982.wav has been extracted to ./drive/MyDrive/4YP/Data\n",
            "train/2825.wav has been extracted to ./drive/MyDrive/4YP/Data\n",
            "Adding mosquito noise at 16.661s\n",
            "Adding mosquito noise at 19.933s\n",
            "train/220002.wav has been extracted to ./drive/MyDrive/4YP/Data\n",
            "train/3137.wav has been extracted to ./drive/MyDrive/4YP/Data\n",
            "Adding mosquito noise at 18.813s\n",
            "Adding mosquito noise at 26.771s\n",
            "train/219986.wav has been extracted to ./drive/MyDrive/4YP/Data\n",
            "train/768.wav has been extracted to ./drive/MyDrive/4YP/Data\n",
            "Adding mosquito noise at 43.91s\n",
            "Adding mosquito noise at 17.146s\n",
            "train/219974.wav has been extracted to ./drive/MyDrive/4YP/Data\n",
            "train/814.wav has been extracted to ./drive/MyDrive/4YP/Data\n",
            "Adding mosquito noise at 27.961s\n",
            "Adding mosquito noise at 36.134s\n",
            "train/220024.wav has been extracted to ./drive/MyDrive/4YP/Data\n",
            "train/221452.wav has been extracted to ./drive/MyDrive/4YP/Data\n",
            "Adding mosquito noise at 43.047s\n",
            "Adding mosquito noise at 17.537s\n",
            "train/220032.wav has been extracted to ./drive/MyDrive/4YP/Data\n",
            "train/222526.wav has been extracted to ./drive/MyDrive/4YP/Data\n",
            "Adding mosquito noise at 4.466s\n",
            "Adding mosquito noise at 32.82s\n",
            "train/202050.wav has been extracted to ./drive/MyDrive/4YP/Data\n",
            "train/2660.wav has been extracted to ./drive/MyDrive/4YP/Data\n",
            "Adding mosquito noise at 14.374s\n",
            "Adding mosquito noise at 21.25s\n",
            "train/202139.wav has been extracted to ./drive/MyDrive/4YP/Data\n",
            "train/3041.wav has been extracted to ./drive/MyDrive/4YP/Data\n",
            "Adding mosquito noise at 14.452s\n",
            "Adding mosquito noise at 32.414s\n",
            "train/219951.wav has been extracted to ./drive/MyDrive/4YP/Data\n",
            "train/2612.wav has been extracted to ./drive/MyDrive/4YP/Data\n",
            "Adding mosquito noise at 51.658s\n",
            "Adding mosquito noise at 46.611s\n",
            "train/220022.wav has been extracted to ./drive/MyDrive/4YP/Data\n",
            "train/220917.wav has been extracted to ./drive/MyDrive/4YP/Data\n",
            "Adding mosquito noise at 36.818s\n",
            "Adding mosquito noise at 15.48s\n",
            "train/219984.wav has been extracted to ./drive/MyDrive/4YP/Data\n",
            "train/220432.wav has been extracted to ./drive/MyDrive/4YP/Data\n",
            "Adding mosquito noise at 49.629s\n",
            "Adding mosquito noise at 30.673s\n",
            "train/201354.wav has been extracted to ./drive/MyDrive/4YP/Data\n",
            "train/4244.wav has been extracted to ./drive/MyDrive/4YP/Data\n",
            "Adding mosquito noise at 25.82s\n",
            "Adding mosquito noise at 22.991s\n",
            "train/220034.wav has been extracted to ./drive/MyDrive/4YP/Data\n",
            "train/974.wav has been extracted to ./drive/MyDrive/4YP/Data\n",
            "Adding mosquito noise at 17.233s\n",
            "Adding mosquito noise at 32.689s\n",
            "train/201519.wav has been extracted to ./drive/MyDrive/4YP/Data\n",
            "train/2701.wav has been extracted to ./drive/MyDrive/4YP/Data\n",
            "Adding mosquito noise at 10.298s\n",
            "Adding mosquito noise at 31.732s\n",
            "train/220035.wav has been extracted to ./drive/MyDrive/4YP/Data\n",
            "train/838.wav has been extracted to ./drive/MyDrive/4YP/Data\n",
            "Adding mosquito noise at 50.924s\n",
            "Adding mosquito noise at 14.99s\n",
            "train/201654.wav has been extracted to ./drive/MyDrive/4YP/Data\n",
            "train/1720.wav has been extracted to ./drive/MyDrive/4YP/Data\n",
            "Adding mosquito noise at 6.774s\n",
            "Adding mosquito noise at 26.507s\n",
            "train/220028.wav has been extracted to ./drive/MyDrive/4YP/Data\n",
            "train/220337.wav has been extracted to ./drive/MyDrive/4YP/Data\n",
            "Adding mosquito noise at 32.459s\n",
            "Adding mosquito noise at 27.095s\n",
            "train/202153.wav has been extracted to ./drive/MyDrive/4YP/Data\n",
            "train/220756.wav has been extracted to ./drive/MyDrive/4YP/Data\n",
            "Adding mosquito noise at 13.004s\n",
            "Adding mosquito noise at 26.539s\n",
            "train/202125.wav has been extracted to ./drive/MyDrive/4YP/Data\n",
            "train/3521.wav has been extracted to ./drive/MyDrive/4YP/Data\n",
            "Adding mosquito noise at 17.554s\n",
            "Adding mosquito noise at 23.796s\n",
            "train/202156.wav has been extracted to ./drive/MyDrive/4YP/Data\n",
            "train/1062.wav has been extracted to ./drive/MyDrive/4YP/Data\n",
            "Adding mosquito noise at 4.484s\n",
            "Adding mosquito noise at 8.28s\n",
            "train/219955.wav has been extracted to ./drive/MyDrive/4YP/Data\n",
            "train/3342.wav has been extracted to ./drive/MyDrive/4YP/Data\n",
            "Adding mosquito noise at 12.711s\n",
            "Adding mosquito noise at 6.236s\n",
            "train/201125.wav has been extracted to ./drive/MyDrive/4YP/Data\n",
            "train/3288.wav has been extracted to ./drive/MyDrive/4YP/Data\n",
            "Adding mosquito noise at 21.493s\n",
            "Adding mosquito noise at 6.54s\n",
            "train/219996.wav has been extracted to ./drive/MyDrive/4YP/Data\n",
            "train/3449.wav has been extracted to ./drive/MyDrive/4YP/Data\n",
            "Adding mosquito noise at 32.44s\n",
            "Adding mosquito noise at 16.824s\n",
            "train/220019.wav has been extracted to ./drive/MyDrive/4YP/Data\n",
            "train/848.wav has been extracted to ./drive/MyDrive/4YP/Data\n",
            "Adding mosquito noise at 7.655s\n",
            "Adding mosquito noise at 31.626s\n",
            "train/220028.wav has been extracted to ./drive/MyDrive/4YP/Data\n",
            "train/220090.wav has been extracted to ./drive/MyDrive/4YP/Data\n",
            "Adding mosquito noise at 57.413s\n",
            "Adding mosquito noise at 55.407s\n",
            "train/219958.wav has been extracted to ./drive/MyDrive/4YP/Data\n",
            "train/221044.wav has been extracted to ./drive/MyDrive/4YP/Data\n",
            "Adding mosquito noise at 56.818s\n",
            "Adding mosquito noise at 51.705s\n",
            "train/219949.wav has been extracted to ./drive/MyDrive/4YP/Data\n",
            "train/2955.wav has been extracted to ./drive/MyDrive/4YP/Data\n",
            "Adding mosquito noise at 14.996s\n",
            "Adding mosquito noise at 60.521s\n",
            "train/219988.wav has been extracted to ./drive/MyDrive/4YP/Data\n",
            "train/1281.wav has been extracted to ./drive/MyDrive/4YP/Data\n",
            "Adding mosquito noise at 5.297s\n",
            "Adding mosquito noise at 17.215s\n",
            "train/220008.wav has been extracted to ./drive/MyDrive/4YP/Data\n",
            "train/2626.wav has been extracted to ./drive/MyDrive/4YP/Data\n",
            "Adding mosquito noise at 21.186s\n",
            "Adding mosquito noise at 36.41s\n",
            "train/219997.wav has been extracted to ./drive/MyDrive/4YP/Data\n",
            "train/3245.wav has been extracted to ./drive/MyDrive/4YP/Data\n",
            "Adding mosquito noise at 70.582s\n",
            "Adding mosquito noise at 37.498s\n",
            "train/201672.wav has been extracted to ./drive/MyDrive/4YP/Data\n",
            "train/3266.wav has been extracted to ./drive/MyDrive/4YP/Data\n",
            "Adding mosquito noise at 10.487s\n",
            "Adding mosquito noise at 20.55s\n",
            "train/219968.wav has been extracted to ./drive/MyDrive/4YP/Data\n",
            "train/220520.wav has been extracted to ./drive/MyDrive/4YP/Data\n",
            "Adding mosquito noise at 39.312s\n",
            "Adding mosquito noise at 13.757s\n",
            "train/220022.wav has been extracted to ./drive/MyDrive/4YP/Data\n",
            "train/1305.wav has been extracted to ./drive/MyDrive/4YP/Data\n",
            "Adding mosquito noise at 43.392s\n",
            "Adding mosquito noise at 28.934s\n",
            "train/219956.wav has been extracted to ./drive/MyDrive/4YP/Data\n",
            "train/2726.wav has been extracted to ./drive/MyDrive/4YP/Data\n",
            "Adding mosquito noise at 54.217s\n",
            "Adding mosquito noise at 19.394s\n",
            "train/202125.wav has been extracted to ./drive/MyDrive/4YP/Data\n",
            "train/2710.wav has been extracted to ./drive/MyDrive/4YP/Data\n",
            "Adding mosquito noise at 27.709s\n",
            "Adding mosquito noise at 13.299s\n",
            "train/220017.wav has been extracted to ./drive/MyDrive/4YP/Data\n",
            "train/3284.wav has been extracted to ./drive/MyDrive/4YP/Data\n",
            "Adding mosquito noise at 56.601s\n",
            "Adding mosquito noise at 17.917s\n",
            "train/202177.wav has been extracted to ./drive/MyDrive/4YP/Data\n",
            "train/2853.wav has been extracted to ./drive/MyDrive/4YP/Data\n",
            "Adding mosquito noise at 4.522s\n",
            "Adding mosquito noise at 25.918s\n",
            "train/220034.wav has been extracted to ./drive/MyDrive/4YP/Data\n",
            "train/222537.wav has been extracted to ./drive/MyDrive/4YP/Data\n",
            "Adding mosquito noise at 4.543s\n",
            "Adding mosquito noise at 53.022s\n",
            "train/220031.wav has been extracted to ./drive/MyDrive/4YP/Data\n",
            "train/3279.wav has been extracted to ./drive/MyDrive/4YP/Data\n",
            "Adding mosquito noise at 56.285s\n",
            "Adding mosquito noise at 56.596s\n",
            "train/202150.wav has been extracted to ./drive/MyDrive/4YP/Data\n",
            "train/221817.wav has been extracted to ./drive/MyDrive/4YP/Data\n",
            "Adding mosquito noise at 7.123s\n",
            "Adding mosquito noise at 31.597s\n",
            "train/219985.wav has been extracted to ./drive/MyDrive/4YP/Data\n",
            "train/2922.wav has been extracted to ./drive/MyDrive/4YP/Data\n",
            "Adding mosquito noise at 45.433s\n",
            "Adding mosquito noise at 35.529s\n",
            "train/202153.wav has been extracted to ./drive/MyDrive/4YP/Data\n",
            "train/3252.wav has been extracted to ./drive/MyDrive/4YP/Data\n",
            "Adding mosquito noise at 36.344s\n",
            "Adding mosquito noise at 12.044s\n",
            "train/220013.wav has been extracted to ./drive/MyDrive/4YP/Data\n",
            "train/2871.wav has been extracted to ./drive/MyDrive/4YP/Data\n",
            "Adding mosquito noise at 23.597s\n",
            "Adding mosquito noise at 10.004s\n",
            "train/220014.wav has been extracted to ./drive/MyDrive/4YP/Data\n",
            "train/221175.wav has been extracted to ./drive/MyDrive/4YP/Data\n",
            "Adding mosquito noise at 12.708s\n",
            "Adding mosquito noise at 44.201s\n",
            "train/201192.wav has been extracted to ./drive/MyDrive/4YP/Data\n",
            "train/1437.wav has been extracted to ./drive/MyDrive/4YP/Data\n",
            "Adding mosquito noise at 15.126s\n",
            "Adding mosquito noise at 24.528s\n",
            "train/219998.wav has been extracted to ./drive/MyDrive/4YP/Data\n",
            "train/986.wav has been extracted to ./drive/MyDrive/4YP/Data\n",
            "Adding mosquito noise at 26.583s\n",
            "Adding mosquito noise at 39.188s\n",
            "train/220021.wav has been extracted to ./drive/MyDrive/4YP/Data\n",
            "train/221060.wav has been extracted to ./drive/MyDrive/4YP/Data\n",
            "Adding mosquito noise at 19.382s\n",
            "Adding mosquito noise at 40.927s\n",
            "train/202125.wav has been extracted to ./drive/MyDrive/4YP/Data\n",
            "train/220587.wav has been extracted to ./drive/MyDrive/4YP/Data\n",
            "Adding mosquito noise at 20.025s\n",
            "Adding mosquito noise at 5.557s\n",
            "train/201125.wav has been extracted to ./drive/MyDrive/4YP/Data\n",
            "train/223140.wav has been extracted to ./drive/MyDrive/4YP/Data\n",
            "Adding mosquito noise at 32.187s\n",
            "Adding mosquito noise at 28.681s\n",
            "MFCC Matrix shape:(5354, 10)\n",
            "Mosquitoness Matrix shape:(5354,)\n"
          ]
        }
      ]
    },
    {
      "cell_type": "markdown",
      "source": [
        "## Split into training and dev"
      ],
      "metadata": {
        "id": "s3BvVi_85Hk2"
      }
    },
    {
      "cell_type": "code",
      "source": [
        "from sklearn.model_selection import train_test_split\n",
        "\n",
        "X_train, X_dev, y_train, y_dev = train_test_split(coef, cats, test_size=0.2, random_state=42)\n",
        "\n",
        "num_mos = np.count_nonzero(cats)\n",
        "num_back = len(cats) - num_mos\n",
        "\n",
        "print(\"Mosquito: \" + str(num_mos))\n",
        "print(\"Not Mosquito: \"  + str(num_back))\n",
        "\n",
        "print(\"Samples in training set: \" + str(len(X_train)))\n",
        "print(\"Samples in dev set: \" + str(len(X_dev)))"
      ],
      "metadata": {
        "id": "763mJDNPvpGW",
        "colab": {
          "base_uri": "https://localhost:8080/"
        },
        "outputId": "866f4b7f-2501-4a08-c533-25cfd15b886b"
      },
      "execution_count": null,
      "outputs": [
        {
          "output_type": "stream",
          "name": "stdout",
          "text": [
            "Mosquito: 1334\n",
            "Not Mosquito: 4020\n",
            "Samples in training set: 4283\n",
            "Samples in dev set: 1071\n"
          ]
        }
      ]
    },
    {
      "cell_type": "markdown",
      "source": [
        "## Test out K-nearest neighbor"
      ],
      "metadata": {
        "id": "2OE0vAQW5Lte"
      }
    },
    {
      "cell_type": "code",
      "source": [
        "from sklearn.neighbors import KNeighborsRegressor\n",
        "\n",
        "n = 40\n",
        "error = np.zeros(n)\n",
        "\n",
        "for i in range(1,n):\n",
        "  neigh = KNeighborsRegressor(n_neighbors=i)\n",
        "  neigh.fit(X_train, y_train)\n",
        "\n",
        "  y_pred = neigh.predict(X_dev)\n",
        "\n",
        "  error[i] = ((y_pred - y_dev)**2).mean()\n",
        "\n",
        "\n",
        "plt.plot(error)\n",
        "plt.xlabel(\"K\")\n",
        "plt.ylabel(\"MSE\")\n",
        "plt.plot()"
      ],
      "metadata": {
        "id": "n_mnWPFJzZe6",
        "colab": {
          "base_uri": "https://localhost:8080/",
          "height": 470
        },
        "outputId": "37f3835d-2918-41ac-ee22-94b2181186be"
      },
      "execution_count": null,
      "outputs": [
        {
          "output_type": "execute_result",
          "data": {
            "text/plain": [
              "[]"
            ]
          },
          "metadata": {},
          "execution_count": 159
        },
        {
          "output_type": "display_data",
          "data": {
            "text/plain": [
              "<Figure size 640x480 with 1 Axes>"
            ],
            "image/png": "[encoded data removed]"
          },
          "metadata": {}
        }
      ]
    },
    {
      "cell_type": "code",
      "source": [
        "print(np.argmin(error[1:]))\n",
        "print(np.min(error[1:]))"
      ],
      "metadata": {
        "colab": {
          "base_uri": "https://localhost:8080/"
        },
        "id": "doWS4jjF5PKQ",
        "outputId": "708faf4d-a192-459e-b88d-c62402fb7d8d"
      },
      "execution_count": null,
      "outputs": [
        {
          "output_type": "stream",
          "name": "stdout",
          "text": [
            "14\n",
            "0.12490335250932154\n"
          ]
        }
      ]
    },
    {
      "cell_type": "code",
      "source": [
        "neigh = KNeighborsRegressor(n_neighbors=8)\n",
        "neigh.fit(X_train, y_train)\n",
        "y_pred = neigh.predict(X_dev)\n",
        "\n",
        "print(y_pred)"
      ],
      "metadata": {
        "colab": {
          "base_uri": "https://localhost:8080/"
        },
        "id": "gOO4yxE_6rPc",
        "outputId": "cee9a2e4-ff62-4552-d67f-3ac2b7733c45"
      },
      "execution_count": null,
      "outputs": [
        {
          "output_type": "stream",
          "name": "stdout",
          "text": [
            "[0.38 0.25 0.16 ... 0.04 0.   0.25]\n"
          ]
        }
      ]
    },
    {
      "cell_type": "code",
      "source": [
        "y_pred = binarize(y_pred)\n",
        "y_dev = binarize(y_dev)"
      ],
      "metadata": {
        "id": "eHS6KkgxWfZ5"
      },
      "execution_count": null,
      "outputs": []
    },
    {
      "cell_type": "code",
      "source": [
        "from sklearn.metrics import confusion_matrix, ConfusionMatrixDisplay\n",
        "confusion = confusion_matrix(y_dev, y_pred)\n",
        "true_pos = confusion[1][1]\n",
        "true_neg = confusion[0][0]\n",
        "false_pos = confusion[0][1]\n",
        "false_neg = confusion[1][0]\n",
        "\n",
        "print(\"True positive: \" + str(true_pos))\n",
        "print(\"True negative: \" + str(true_neg))\n",
        "print(\"False positive: \" + str(false_pos))\n",
        "print(\"False negative: \" + str(false_neg))\n",
        "\n",
        "sensitivity = true_pos/(true_pos+false_neg)\n",
        "specificity = true_neg/(true_neg+false_pos)\n",
        "\n",
        "print(\"Sensitivity: \" + str(sensitivity))\n",
        "print(\"Specificity: \" + str(specificity))\n",
        "print(\"Score: \" + str(specificity+specificity))\n",
        "disp = ConfusionMatrixDisplay(confusion, display_labels = [\"Background\", \"Mosquito\"])\n",
        "disp.plot()\n",
        "plt.show()"
      ],
      "metadata": {
        "colab": {
          "base_uri": "https://localhost:8080/"
        },
        "id": "NABo75R_-jkm",
        "outputId": "74572dc3-15d0-48d1-f46e-a56159db8559"
      },
      "execution_count": null,
      "outputs": [
        {
          "output_type": "stream",
          "name": "stdout",
          "text": [
            "True positive: 140\n",
            "True negative: 596\n",
            "False positive: 251\n",
            "False negative: 84\n",
            "Sensitivity: 0.625\n",
            "Specificity: 0.7036599763872491\n",
            "Score: 1.4073199527744982\n"
          ]
        },
        {
          "output_type": "display_data",
          "data": {
            "text/plain": [
              "<Figure size 640x480 with 2 Axes>"
            ],
            "image/png": "[encoded data removed]"
          },
          "metadata": {}
        }
      ]
    }
  ]
}