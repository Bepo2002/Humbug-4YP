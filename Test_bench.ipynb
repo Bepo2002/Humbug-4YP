{
  "nbformat": 4,
  "nbformat_minor": 0,
  "metadata": {
    "colab": {
      "provenance": [],
      "mount_file_id": "1U2Lxf0G-7OiyMQYs7Nyanh_3ttyqJHpe",
      "authorship_tag": "ABX9TyONwH6jU8B0YL56Q7B+osPt",
      "include_colab_link": true
    },
    "kernelspec": {
      "name": "python3",
      "display_name": "Python 3"
    },
    "language_info": {
      "name": "python"
    }
  },
  "cells": [
    {
      "cell_type": "markdown",
      "metadata": {
        "id": "view-in-github",
        "colab_type": "text"
      },
      "source": [
        "<a href=\"https://colab.research.google.com/github/Bepo2002/Humbug-4YP/blob/main/Test_bench.ipynb\" target=\"_parent\"><img src=\"https://colab.research.google.com/assets/colab-badge.svg\" alt=\"Open In Colab\"/></a>"
      ]
    },
    {
      "cell_type": "code",
      "execution_count": 60,
      "metadata": {
        "id": "crrjOOZ0p3bM"
      },
      "outputs": [],
      "source": [
        "# Generate a clip with noise and mosquito\n",
        "# Chop into X second chunks\n",
        "# Calculate MFCCs\n",
        "# Save as data point?\n",
        "\n",
        "import zipfile\n",
        "from scipy.io import wavfile\n",
        "import pandas as pd\n",
        "import numpy as np\n",
        "import matplotlib.pyplot as plt\n",
        "from IPython.display import Audio\n",
        "import librosa"
      ]
    },
    {
      "cell_type": "code",
      "source": [
        "def extract_sound(filename):\n",
        "  zip_files = ['./drive/MyDrive/4YP/train.zip','./drive/MyDrive/4YP/dev.zip']\n",
        "  folders = ['train/', 'dev/a/', 'dev/b/']\n",
        "  dest_dir = './drive/MyDrive/4YP/Data'\n",
        "  filename_to_extract = str(filename) + '.wav'\n",
        "\n",
        "  for zip_path in zip_files:\n",
        "    for folder in folders:\n",
        "      with zipfile.ZipFile(zip_path, 'r') as zip_ref:\n",
        "        filename_to_extract = folder + filename_to_extract\n",
        "        if filename_to_extract in zip_ref.namelist():\n",
        "          zip_ref.extract(filename_to_extract, dest_dir)\n",
        "          print(f\"{filename_to_extract} has been extracted to {dest_dir}\")\n",
        "          final = './drive/MyDrive/4YP/Data/'+ filename_to_extract\n",
        "          return wavfile.read(final)\n",
        "  print(f\"{filename_to_extract} not found in any of the provided ZIP files.\")\n",
        "\n",
        "# Read in .csv\n",
        "def csv_read():\n",
        "  metadata = pd.read_csv('./drive/MyDrive/4YP/Data/humbugdb_meta.csv')\n",
        "  metadata = metadata.set_index('id')\n",
        "  return metadata\n",
        "\n",
        "def gaussian(x, mu, sigma):\n",
        "  return np.exp(-((x - mu)**2) / (2 * sigma**2))"
      ],
      "metadata": {
        "id": "DuZugTaguEw3"
      },
      "execution_count": 61,
      "outputs": []
    },
    {
      "cell_type": "code",
      "source": [
        "def long_sound_gen(mos_num,noise_factor=1):\n",
        "  # Full function for generating noise + mosquito\n",
        "  metadata = csv_read()\n",
        "\n",
        "  # NOISE\n",
        "  subset = metadata[metadata['sound_type'] == 'background']\n",
        "  subset = subset.loc[metadata['length'] > 30]\n",
        "  subset = subset.loc[metadata['sample_rate'] == 44100]\n",
        "  sel_noise = subset.sample()\n",
        "  noise_id = sel_noise.index.values[0]\n",
        "\n",
        "  # Import the sound wave and find samplerate\n",
        "  n_samplerate, noise = extract_sound(noise_id)\n",
        "\n",
        "  # MOSQUITO\n",
        "  subset = metadata[metadata['sound_type'] == 'mosquito']\n",
        "  subset = subset.loc[(metadata['length'] < 10) & (metadata['length'] > 3)]\n",
        "  subset = subset.loc[metadata['sample_rate'] == 44100]\n",
        "  sel_mos = subset.sample()\n",
        "  mos_id = sel_mos.index.values[0]\n",
        "\n",
        "  # Import the sound wave and find samplerate\n",
        "  samplerate, data = extract_sound(mos_id)\n",
        "\n",
        "\n",
        "  # Add sound to random time in noise\n",
        "  # Initilise vectors to store new audio and categories\n",
        "  new_audio = np.zeros(noise.size)\n",
        "  sound_cat = np.zeros(noise.size)\n",
        "  old_audio = np.zeros(noise.size)\n",
        "\n",
        "  for i in range(0,mos_num):\n",
        "\n",
        "    # Choose a 'time' to put the middle of mosquito sound wave\n",
        "    mosquito_time = np.random.randint(data.size//2, high=noise.size-data.size//2, dtype=int)\n",
        "    print(mosquito_time)\n",
        "\n",
        "    # Put wave into long array\n",
        "    new_audio[mosquito_time - data.size//2:(mosquito_time - data.size//2)+data.size] = data\n",
        "    sound_cat[mosquito_time - data.size//2:mosquito_time + data.size//2] = 1\n",
        "\n",
        "    # Generate gaussian in same place as mos audio\n",
        "    x = np.linspace(0,noise.size,noise.size,dtype=int)\n",
        "    y = gaussian(x,mosquito_time,data.size/6)\n",
        "\n",
        "    # Multiply to apply gaussian to audio\n",
        "    old_audio = y*new_audio + old_audio\n",
        "\n",
        "  # Add faded mosquito sound to background noise\n",
        "  full_audio = noise*noise_factor + old_audio\n",
        "\n",
        "  return full_audio, samplerate, sound_cat"
      ],
      "metadata": {
        "id": "l5AaLLIUuE-3"
      },
      "execution_count": 62,
      "outputs": []
    },
    {
      "cell_type": "code",
      "source": [
        "def chop_chop(audio,samplerate,clip_size=1):\n",
        "  # Choose bin size (default 1 second clip)\n",
        "  bin_size = int(samplerate*clip_size)\n",
        "\n",
        "  # Reshape Data\n",
        "  rows = int(audio.size/bin_size)\n",
        "  audio = audio[:rows*bin_size]\n",
        "  audio = np.reshape(audio,(rows,bin_size))\n",
        "  audio = np.concatenate((audio,np.zeros((rows,1))),axis=1)\n",
        "  return audio"
      ],
      "metadata": {
        "id": "JFMldNkZvwgI"
      },
      "execution_count": 63,
      "outputs": []
    },
    {
      "cell_type": "code",
      "source": [
        "def generate_training_data(mosquitoness=2, noise_factor=0.5, chop_size=1, n_mfcc=10):\n",
        "  full_audio, samplerate, sound_cat = long_sound_gen(mosquitoness,noise_factor)\n",
        "  audio_normal = librosa.util.normalize(full_audio)\n",
        "  chopped_audio = chop_chop(audio_normal,samplerate,chop_size)\n",
        "  mfccs = np.zeros((len(chopped_audio),n_mfcc))\n",
        "  for i in range(0,len(chopped_audio)):\n",
        "    mfcc = librosa.feature.mfcc(y=chopped_audio[i].astype(float), sr=samplerate,  n_mfcc=n_mfcc)\n",
        "    mfccs[i] = np.mean(mfcc,axis=1)\n",
        "\n",
        "  chopped_cat = chop_chop(sound_cat,samplerate,chop_size)\n",
        "  av_chopped_cat = np.mean(chopped_cat,axis=1)\n",
        "\n",
        "  # Returns a number of seconds in audio x n_mfcc matrix and an array of sound category (how much mosquito) in each X second chop\n",
        "  return mfccs, av_chopped_cat"
      ],
      "metadata": {
        "id": "DkTwE4AivACO"
      },
      "execution_count": 64,
      "outputs": []
    },
    {
      "cell_type": "code",
      "source": [
        "def multiple_training_data(amount_of_audio, mosquitoness=2, noise_factor=0.5, chop_size=1, n_mfcc=10):\n",
        "  X, Y = generate_training_data(mosquitoness, noise_factor, chop_size, n_mfcc)\n",
        "  for i in range(0,amount_of_audio-1):\n",
        "    mfccs, av_chopped_cat = generate_training_data()\n",
        "    X = np.concatenate((X,mfccs))\n",
        "    Y = np.concatenate((Y,av_chopped_cat))\n",
        "  return X,Y\n",
        "\n",
        "coef, cats = multiple_training_data(10)\n",
        "\n",
        "print(coef.shape)\n",
        "print(cats.shape)"
      ],
      "metadata": {
        "colab": {
          "base_uri": "https://localhost:8080/"
        },
        "id": "_V5DE1h4z0EV",
        "outputId": "255e523a-5826-427e-c952-9e3ea6a9b83e"
      },
      "execution_count": 72,
      "outputs": [
        {
          "output_type": "stream",
          "name": "stdout",
          "text": [
            "train/220009.wav has been extracted to ./drive/MyDrive/4YP/Data\n",
            "train/3455.wav has been extracted to ./drive/MyDrive/4YP/Data\n",
            "1659855\n",
            "274960\n",
            "train/202174.wav has been extracted to ./drive/MyDrive/4YP/Data\n",
            "train/1413.wav has been extracted to ./drive/MyDrive/4YP/Data\n",
            "222964\n",
            "1670364\n",
            "train/220016.wav has been extracted to ./drive/MyDrive/4YP/Data\n",
            "train/1207.wav has been extracted to ./drive/MyDrive/4YP/Data\n",
            "186309\n",
            "1639969\n",
            "train/201143.wav has been extracted to ./drive/MyDrive/4YP/Data\n",
            "train/1025.wav has been extracted to ./drive/MyDrive/4YP/Data\n",
            "966073\n",
            "740547\n",
            "train/220019.wav has been extracted to ./drive/MyDrive/4YP/Data\n",
            "train/1521.wav has been extracted to ./drive/MyDrive/4YP/Data\n",
            "1751272\n",
            "1192251\n",
            "train/220020.wav has been extracted to ./drive/MyDrive/4YP/Data\n",
            "train/3139.wav has been extracted to ./drive/MyDrive/4YP/Data\n",
            "1078326\n",
            "316833\n",
            "train/219997.wav has been extracted to ./drive/MyDrive/4YP/Data\n",
            "train/220893.wav has been extracted to ./drive/MyDrive/4YP/Data\n",
            "2171205\n",
            "3690065\n",
            "train/219954.wav has been extracted to ./drive/MyDrive/4YP/Data\n",
            "train/1325.wav has been extracted to ./drive/MyDrive/4YP/Data\n",
            "764203\n",
            "226135\n",
            "train/202068.wav has been extracted to ./drive/MyDrive/4YP/Data\n",
            "train/222025.wav has been extracted to ./drive/MyDrive/4YP/Data\n",
            "1336611\n",
            "1109060\n",
            "train/219992.wav has been extracted to ./drive/MyDrive/4YP/Data\n",
            "train/3391.wav has been extracted to ./drive/MyDrive/4YP/Data\n",
            "1200714\n",
            "1729402\n",
            "(620, 10)\n",
            "(620,)\n"
          ]
        }
      ]
    }
  ]
}