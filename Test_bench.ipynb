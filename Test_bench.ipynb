{
  "nbformat": 4,
  "nbformat_minor": 0,
  "metadata": {
    "colab": {
      "provenance": [],
      "mount_file_id": "1U2Lxf0G-7OiyMQYs7Nyanh_3ttyqJHpe",
      "authorship_tag": "ABX9TyOjFoEreqEM5CQyGl98YwgV",
      "include_colab_link": true
    },
    "kernelspec": {
      "name": "python3",
      "display_name": "Python 3"
    },
    "language_info": {
      "name": "python"
    }
  },
  "cells": [
    {
      "cell_type": "markdown",
      "metadata": {
        "id": "view-in-github",
        "colab_type": "text"
      },
      "source": [
        "<a href=\"https://colab.research.google.com/github/Bepo2002/Humbug-4YP/blob/main/Test_bench.ipynb\" target=\"_parent\"><img src=\"https://colab.research.google.com/assets/colab-badge.svg\" alt=\"Open In Colab\"/></a>"
      ]
    },
    {
      "cell_type": "markdown",
      "source": [
        "# Mosquito Virtual Test Bench V1.1"
      ],
      "metadata": {
        "id": "YjQ6ZtzQ3HGq"
      }
    },
    {
      "cell_type": "code",
      "execution_count": 47,
      "metadata": {
        "id": "crrjOOZ0p3bM"
      },
      "outputs": [],
      "source": [
        "import zipfile\n",
        "from scipy.io import wavfile\n",
        "import pandas as pd\n",
        "import numpy as np\n",
        "import matplotlib.pyplot as plt\n",
        "from IPython.display import Audio\n",
        "import librosa\n",
        "from scipy.stats.mstats import winsorize"
      ]
    },
    {
      "cell_type": "markdown",
      "source": [
        "## Helper Functions"
      ],
      "metadata": {
        "id": "-OUM1ZRZ3SDD"
      }
    },
    {
      "cell_type": "code",
      "source": [
        "# Finds specific sound in zip and extracts it\n",
        "def extract_sound(filename):\n",
        "  zip_files = ['./drive/MyDrive/4YP/train.zip','./drive/MyDrive/4YP/dev.zip']\n",
        "  folders = ['train/', 'dev/a/', 'dev/b/']\n",
        "  dest_dir = './drive/MyDrive/4YP/Data'\n",
        "  filename_to_extract = str(filename) + '.wav'\n",
        "\n",
        "  for zip_path in zip_files:\n",
        "    for folder in folders:\n",
        "      with zipfile.ZipFile(zip_path, 'r') as zip_ref:\n",
        "        filename_to_extract = folder + filename_to_extract\n",
        "        if filename_to_extract in zip_ref.namelist():\n",
        "          zip_ref.extract(filename_to_extract, dest_dir)\n",
        "          print(f\"{filename_to_extract} has been extracted to {dest_dir}\")\n",
        "          final = './drive/MyDrive/4YP/Data/'+ filename_to_extract\n",
        "          return wavfile.read(final)\n",
        "  print(f\"{filename_to_extract} not found in any of the provided ZIP files.\")\n",
        "\n",
        "# Read in .csv\n",
        "def csv_read():\n",
        "  metadata = pd.read_csv('./drive/MyDrive/4YP/Data/humbugdb_meta.csv')\n",
        "  metadata = metadata.set_index('id')\n",
        "  return metadata\n",
        "\n",
        "def gaussian(x, mu, sigma):\n",
        "  return np.exp(-((x - mu)**2) / (2 * sigma**2))"
      ],
      "metadata": {
        "id": "DuZugTaguEw3"
      },
      "execution_count": 48,
      "outputs": []
    },
    {
      "cell_type": "markdown",
      "source": [
        "## Mosquito Mixer (see Audio_mix_test)"
      ],
      "metadata": {
        "id": "IPNlXhKG3VpS"
      }
    },
    {
      "cell_type": "code",
      "source": [
        "# Full function for generating noise + mosquito\n",
        "def long_sound_gen(mos_num,noise_factor=1):\n",
        "  metadata = csv_read()\n",
        "\n",
        "  # Choose a long noise sound\n",
        "  subset = metadata[metadata['sound_type'] == 'background']\n",
        "  subset = subset.loc[metadata['length'] > 30]\n",
        "  subset = subset.loc[metadata['sample_rate'] == 44100]\n",
        "  sel_noise = subset.sample()\n",
        "  noise_id = sel_noise.index.values[0]\n",
        "\n",
        "  # Extract the sound wave and find samplerate\n",
        "  n_samplerate, noise = extract_sound(noise_id)\n",
        "\n",
        "  # Choose a shorter mosquito sound\n",
        "  subset = metadata[metadata['sound_type'] == 'mosquito']\n",
        "  subset = subset.loc[(metadata['length'] < 10) & (metadata['length'] > 3)]\n",
        "  subset = subset.loc[metadata['sample_rate'] == 44100]\n",
        "  sel_mos = subset.sample()\n",
        "  mos_id = sel_mos.index.values[0]\n",
        "\n",
        "  # Import the sound wave and find samplerate\n",
        "  samplerate, data = extract_sound(mos_id)\n",
        "\n",
        "\n",
        "  # Add sound to random time in noise\n",
        "  # Initilise vectors to store new audio and whether each sample is from mosquito or noise\n",
        "  new_audio = np.zeros(noise.size)\n",
        "  sound_cat = np.zeros(noise.size)\n",
        "  old_audio = np.zeros(noise.size)\n",
        "\n",
        "  for i in range(0,mos_num):\n",
        "\n",
        "    # Choose a 'time' to put the middle of mosquito sound wave\n",
        "    mosquito_time = np.random.randint(data.size//2, high=noise.size-data.size//2, dtype=int)\n",
        "    print(\"Adding mosquito noise at \" + str(round(mosquito_time/samplerate,3)) + \"s\")\n",
        "\n",
        "    # Put wave into long array\n",
        "    new_audio[mosquito_time - data.size//2:(mosquito_time - data.size//2)+data.size] = data\n",
        "    sound_cat[mosquito_time - data.size//2:mosquito_time + data.size//2] = 1\n",
        "\n",
        "    # Generate gaussian in same place as mos audio\n",
        "    x = np.linspace(0,noise.size,noise.size,dtype=int)\n",
        "    y = gaussian(x,mosquito_time,data.size/6)\n",
        "\n",
        "    # Multiply to apply gaussian to audio\n",
        "    old_audio = y*new_audio + old_audio\n",
        "\n",
        "  # Add faded mosquito sound to background noise\n",
        "  full_audio = noise*noise_factor + old_audio\n",
        "\n",
        "  return full_audio, samplerate, sound_cat"
      ],
      "metadata": {
        "id": "l5AaLLIUuE-3"
      },
      "execution_count": 49,
      "outputs": []
    },
    {
      "cell_type": "markdown",
      "source": [
        "## Audio chopper"
      ],
      "metadata": {
        "id": "0c2MHgwA3huG"
      }
    },
    {
      "cell_type": "code",
      "source": [
        "# Function for chopping up audio and forming matrix (each row is a clip, each column a sample)\n",
        "def chop_chop(audio,samplerate,seconds_per_clip=1):\n",
        "  # Choose bin size (default 1 second clip)\n",
        "  bin_size = int(samplerate*seconds_per_clip)\n",
        "\n",
        "  # Reshape Data\n",
        "  rows = int(audio.size/bin_size)\n",
        "  audio = audio[:rows*bin_size]\n",
        "  audio = np.reshape(audio,(rows,bin_size))\n",
        "  audio = np.concatenate((audio,np.zeros((rows,1))),axis=1)\n",
        "  return audio"
      ],
      "metadata": {
        "id": "JFMldNkZvwgI"
      },
      "execution_count": 50,
      "outputs": []
    },
    {
      "cell_type": "markdown",
      "source": [
        "## Binarizer"
      ],
      "metadata": {
        "id": "sElx-rFg1WDZ"
      }
    },
    {
      "cell_type": "code",
      "source": [
        "def binarize(full_audio, av_sound_cat):\n",
        "  indexs_to_remove = []\n",
        "  for i in range(len(av_sound_cat)):\n",
        "    if av_sound_cat[i] > 0.8:\n",
        "      av_sound_cat[i] = 1\n",
        "    elif av_sound_cat[i] < 0.2:\n",
        "      av_sound_cat[i] = 0\n",
        "    else:\n",
        "      indexs_to_remove.append(i)\n",
        "  av_sound_cat = np.delete(av_sound_cat,indexs_to_remove)\n",
        "  full_audio = np.delete(full_audio,indexs_to_remove,axis=0)\n",
        "\n",
        "\n",
        "  return full_audio, av_sound_cat\n"
      ],
      "metadata": {
        "id": "DNztQOdr1ZZ3"
      },
      "execution_count": 51,
      "outputs": []
    },
    {
      "cell_type": "markdown",
      "source": [
        "## MFCC Generation"
      ],
      "metadata": {
        "id": "Ci2DU7fh3pZ1"
      }
    },
    {
      "cell_type": "code",
      "source": [
        "# Function to generate MFCCs for one long mixed audio\n",
        "def generate_training_data(mosquitoness=2, noise_factor=0.5, chop_size=1, n_mfcc=10):\n",
        "  # Create the long mixed audio (mosquito + noise)\n",
        "  full_audio, samplerate, sound_cat = long_sound_gen(mosquitoness,noise_factor)\n",
        "\n",
        "  audio_normal = winsorize(full_audio)\n",
        "\n",
        "  # Chop audio into X second clips\n",
        "  chopped_audio = chop_chop(audio_normal,samplerate,chop_size)\n",
        "\n",
        "  # Create an average 'mosquitoness' of each clip\n",
        "  chopped_cat = chop_chop(sound_cat,samplerate,chop_size)\n",
        "  av_chopped_cat = np.mean(chopped_cat,axis=1)\n",
        "\n",
        "  # Binarize\n",
        "  chopped_audio, av_chopped_cat = binarize(chopped_audio, av_chopped_cat)\n",
        "\n",
        "  # Generate MFCCs for each 1s clip (squeeze as librosa function generates in 2D for some reason)\n",
        "  mfccs = np.zeros((len(chopped_audio),n_mfcc))\n",
        "  for i in range(0,len(chopped_audio)):\n",
        "    test_var = np.squeeze(librosa.feature.mfcc(y=chopped_audio[i].astype(float), sr=samplerate, n_mfcc = n_mfcc, hop_length = len(chopped_audio[i])*2))\n",
        "    mfccs[i] = test_var\n",
        "\n",
        "\n",
        "\n",
        "  # Returns a number of seconds in audio x n_mfcc matrix and an array of sound category (how much mosquito) in each X second chop\n",
        "  return mfccs, av_chopped_cat"
      ],
      "metadata": {
        "id": "DkTwE4AivACO"
      },
      "execution_count": 52,
      "outputs": []
    },
    {
      "cell_type": "code",
      "source": [
        "# Generates training data for several long audio segments\n",
        "def multiple_training_data(amount_of_audio, mosquitoness=2, noise_factor=0.5, chop_size=1, n_mfcc=10):\n",
        "  X, Y = generate_training_data(mosquitoness, noise_factor, chop_size, n_mfcc)\n",
        "  for i in range(0,amount_of_audio-1):\n",
        "    mfccs, av_chopped_cat = generate_training_data()\n",
        "    X = np.concatenate((X,mfccs))\n",
        "    Y = np.concatenate((Y,av_chopped_cat))\n",
        "  return X,Y\n",
        "\n",
        "def multiple_training_random_noise(amount_of_audio, mosquitoness=2, chop_size=1, n_mfcc=10):\n",
        "  X, Y = generate_training_data(mosquitoness, noise_factor=np.random.uniform(low=0.1, high=1.0))\n",
        "  for i in range(0,amount_of_audio-1):\n",
        "    mfccs, av_chopped_cat = generate_training_data(mosquitoness, noise_factor=np.random.uniform(low=0.1, high=1.0))\n",
        "    X = np.concatenate((X,mfccs))\n",
        "    Y = np.concatenate((Y,av_chopped_cat))\n",
        "  return X,Y\n",
        "\n",
        "np.random.seed(0)\n",
        "coef, cats = multiple_training_random_noise(10,mosquitoness=2)\n",
        "\n",
        "print(\"MFCC Matrix shape:\" + str(coef.shape))\n",
        "print(\"Mosquitoness Matrix shape:\" + str(cats.shape))"
      ],
      "metadata": {
        "colab": {
          "base_uri": "https://localhost:8080/"
        },
        "id": "_V5DE1h4z0EV",
        "outputId": "f478856c-5309-45e5-fd07-b22003dffb6d"
      },
      "execution_count": 53,
      "outputs": [
        {
          "output_type": "stream",
          "name": "stdout",
          "text": [
            "train/219994.wav has been extracted to ./drive/MyDrive/4YP/Data\n",
            "train/2924.wav has been extracted to ./drive/MyDrive/4YP/Data\n",
            "Adding mosquito noise at 34.073s\n",
            "Adding mosquito noise at 39.605s\n",
            "train/220038.wav has been extracted to ./drive/MyDrive/4YP/Data\n",
            "train/2628.wav has been extracted to ./drive/MyDrive/4YP/Data\n",
            "Adding mosquito noise at 48.526s\n",
            "Adding mosquito noise at 53.792s\n",
            "train/201672.wav has been extracted to ./drive/MyDrive/4YP/Data\n",
            "train/220281.wav has been extracted to ./drive/MyDrive/4YP/Data\n",
            "Adding mosquito noise at 5.748s\n",
            "Adding mosquito noise at 16.981s\n",
            "train/220007.wav has been extracted to ./drive/MyDrive/4YP/Data\n",
            "train/223222.wav has been extracted to ./drive/MyDrive/4YP/Data\n",
            "Adding mosquito noise at 24.43s\n",
            "Adding mosquito noise at 9.215s\n",
            "train/220037.wav has been extracted to ./drive/MyDrive/4YP/Data\n",
            "train/221032.wav has been extracted to ./drive/MyDrive/4YP/Data\n",
            "Adding mosquito noise at 78.915s\n",
            "Adding mosquito noise at 29.552s\n",
            "train/220032.wav has been extracted to ./drive/MyDrive/4YP/Data\n",
            "train/1126.wav has been extracted to ./drive/MyDrive/4YP/Data\n",
            "Adding mosquito noise at 13.327s\n",
            "Adding mosquito noise at 25.796s\n",
            "train/201546.wav has been extracted to ./drive/MyDrive/4YP/Data\n",
            "train/2853.wav has been extracted to ./drive/MyDrive/4YP/Data\n",
            "Adding mosquito noise at 10.032s\n",
            "Adding mosquito noise at 21.171s\n",
            "train/220014.wav has been extracted to ./drive/MyDrive/4YP/Data\n",
            "train/220917.wav has been extracted to ./drive/MyDrive/4YP/Data\n",
            "Adding mosquito noise at 30.992s\n",
            "Adding mosquito noise at 15.764s\n",
            "train/220030.wav has been extracted to ./drive/MyDrive/4YP/Data\n",
            "train/221828.wav has been extracted to ./drive/MyDrive/4YP/Data\n",
            "Adding mosquito noise at 44.753s\n",
            "Adding mosquito noise at 14.718s\n",
            "train/202153.wav has been extracted to ./drive/MyDrive/4YP/Data\n",
            "train/3195.wav has been extracted to ./drive/MyDrive/4YP/Data\n",
            "Adding mosquito noise at 3.386s\n",
            "Adding mosquito noise at 20.482s\n",
            "MFCC Matrix shape:(538, 10)\n",
            "Mosquitoness Matrix shape:(538,)\n"
          ]
        }
      ]
    },
    {
      "cell_type": "markdown",
      "source": [
        "## Split into training and dev"
      ],
      "metadata": {
        "id": "s3BvVi_85Hk2"
      }
    },
    {
      "cell_type": "code",
      "source": [
        "from sklearn.model_selection import train_test_split\n",
        "\n",
        "X_train, X_dev, y_train, y_dev = train_test_split(coef, cats, test_size=0.2, random_state=42)\n",
        "\n",
        "num_mos = np.count_nonzero(cats)\n",
        "num_back = len(cats) - num_mos\n",
        "\n",
        "print(\"Mosquito: \" + str(num_mos))\n",
        "print(\"Not Mosquito: \"  + str(num_back))\n",
        "\n",
        "print(\"Samples in training set: \" + str(len(X_train)))\n",
        "print(\"Samples in dev set: \" + str(len(X_dev)))"
      ],
      "metadata": {
        "id": "763mJDNPvpGW",
        "colab": {
          "base_uri": "https://localhost:8080/"
        },
        "outputId": "95246172-9080-4d00-de2a-fbdfa74d8b4d"
      },
      "execution_count": 54,
      "outputs": [
        {
          "output_type": "stream",
          "name": "stdout",
          "text": [
            "Mosquito: 101\n",
            "Not Mosquito: 437\n",
            "Samples in training set: 430\n",
            "Samples in dev set: 108\n"
          ]
        }
      ]
    },
    {
      "cell_type": "markdown",
      "source": [
        "## Test out K-nearest neighbor"
      ],
      "metadata": {
        "id": "2OE0vAQW5Lte"
      }
    },
    {
      "cell_type": "code",
      "source": [
        "from sklearn.neighbors import KNeighborsClassifier\n",
        "\n",
        "n = 40\n",
        "error = np.zeros(n)\n",
        "\n",
        "for i in range(1,n):\n",
        "  neigh = KNeighborsClassifier(n_neighbors=i)\n",
        "  neigh.fit(X_train, y_train)\n",
        "\n",
        "  y_pred = neigh.predict(X_dev)\n",
        "\n",
        "  error[i] = ((y_pred - y_dev)**2).mean()\n",
        "\n",
        "\n",
        "plt.plot(error)\n",
        "plt.xlabel(\"K\")\n",
        "plt.ylabel(\"MSE\")\n",
        "plt.plot()"
      ],
      "metadata": {
        "id": "n_mnWPFJzZe6",
        "colab": {
          "base_uri": "https://localhost:8080/",
          "height": 466
        },
        "outputId": "fc77373c-307c-40d1-810a-f55346f4bf60"
      },
      "execution_count": 55,
      "outputs": [
        {
          "output_type": "execute_result",
          "data": {
            "text/plain": [
              "[]"
            ]
          },
          "metadata": {},
          "execution_count": 55
        },
        {
          "output_type": "display_data",
          "data": {
            "text/plain": [
              "<Figure size 640x480 with 1 Axes>"
            ],
            "image/png": "[encoded data removed]"
          },
          "metadata": {}
        }
      ]
    },
    {
      "cell_type": "code",
      "source": [
        "print(np.argmin(error[1:]))\n",
        "print(np.min(error[1:]))"
      ],
      "metadata": {
        "colab": {
          "base_uri": "https://localhost:8080/"
        },
        "id": "doWS4jjF5PKQ",
        "outputId": "08e42b4c-daba-4e8e-dcd1-bd02a6c3a6f2"
      },
      "execution_count": 56,
      "outputs": [
        {
          "output_type": "stream",
          "name": "stdout",
          "text": [
            "8\n",
            "0.12037037037037036\n"
          ]
        }
      ]
    },
    {
      "cell_type": "code",
      "source": [
        "neigh = KNeighborsClassifier(n_neighbors=3)\n",
        "neigh.fit(X_train, y_train)\n",
        "\n",
        "y_pred = neigh.predict(X_dev)\n",
        "\n",
        "confusion = np.zeros((2,2))\n",
        "\n",
        "for i in range(len(y_pred)):\n",
        "  real = y_dev[i]\n",
        "  pred = y_pred[i]\n",
        "  confusion[int(real)][int(pred)] += 1\n",
        "\n",
        "true_pos = confusion[1][1]\n",
        "true_neg = confusion[0][0]\n",
        "false_pos = confusion[0][1]\n",
        "false_neg = confusion[1][0]\n",
        "\n",
        "print(\"True positive: \" + str(true_pos))\n",
        "print(\"True negative: \" + str(true_neg))\n",
        "print(\"False positive: \" + str(false_pos))\n",
        "print(\"False negative: \" + str(false_neg))\n",
        "\n",
        "sensitivity = true_pos/(true_pos+false_neg)\n",
        "specificity = true_neg/(true_neg+false_pos)\n",
        "\n",
        "print(\"Sensitivity: \" + str(sensitivity))\n",
        "print(\"Specificity: \" + str(specificity))"
      ],
      "metadata": {
        "colab": {
          "base_uri": "https://localhost:8080/"
        },
        "id": "gOO4yxE_6rPc",
        "outputId": "e08f8210-6a24-45fc-8775-43ebbcb6ab73"
      },
      "execution_count": 57,
      "outputs": [
        {
          "output_type": "stream",
          "name": "stdout",
          "text": [
            "True positive: 7.0\n",
            "True negative: 80.0\n",
            "False positive: 10.0\n",
            "False negative: 11.0\n",
            "Sensitivity: 0.3888888888888889\n",
            "Specificity: 0.8888888888888888\n"
          ]
        }
      ]
    }
  ]
}