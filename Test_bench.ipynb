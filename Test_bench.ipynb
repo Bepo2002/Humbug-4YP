{
  "nbformat": 4,
  "nbformat_minor": 0,
  "metadata": {
    "colab": {
      "provenance": [],
      "mount_file_id": "1U2Lxf0G-7OiyMQYs7Nyanh_3ttyqJHpe",
      "authorship_tag": "ABX9TyNv2/oKxmFobL9pRJEy3Gne",
      "include_colab_link": true
    },
    "kernelspec": {
      "name": "python3",
      "display_name": "Python 3"
    },
    "language_info": {
      "name": "python"
    }
  },
  "cells": [
    {
      "cell_type": "markdown",
      "metadata": {
        "id": "view-in-github",
        "colab_type": "text"
      },
      "source": [
        "<a href=\"https://colab.research.google.com/github/Bepo2002/Humbug-4YP/blob/main/Test_bench.ipynb\" target=\"_parent\"><img src=\"https://colab.research.google.com/assets/colab-badge.svg\" alt=\"Open In Colab\"/></a>"
      ]
    },
    {
      "cell_type": "markdown",
      "source": [
        "# Mosquito Virtual Test Bench V1.1"
      ],
      "metadata": {
        "id": "YjQ6ZtzQ3HGq"
      }
    },
    {
      "cell_type": "code",
      "execution_count": 1,
      "metadata": {
        "id": "crrjOOZ0p3bM"
      },
      "outputs": [],
      "source": [
        "import zipfile\n",
        "from scipy.io import wavfile\n",
        "import pandas as pd\n",
        "import numpy as np\n",
        "import matplotlib.pyplot as plt\n",
        "from IPython.display import Audio\n",
        "import librosa\n",
        "from scipy.stats.mstats import winsorize"
      ]
    },
    {
      "cell_type": "markdown",
      "source": [
        "# Helper Functions"
      ],
      "metadata": {
        "id": "-OUM1ZRZ3SDD"
      }
    },
    {
      "cell_type": "code",
      "source": [
        "# Finds specific sound in zip and extracts it\n",
        "def extract_sound(filename):\n",
        "  zip_files = ['./drive/MyDrive/4YP/train.zip','./drive/MyDrive/4YP/dev.zip']\n",
        "  folders = ['train/', 'dev/a/', 'dev/b/']\n",
        "  dest_dir = './drive/MyDrive/4YP/Data'\n",
        "  filename_to_extract = str(filename) + '.wav'\n",
        "\n",
        "  for zip_path in zip_files:\n",
        "    for folder in folders:\n",
        "      with zipfile.ZipFile(zip_path, 'r') as zip_ref:\n",
        "        filename_to_extract = folder + filename_to_extract\n",
        "        if filename_to_extract in zip_ref.namelist():\n",
        "          zip_ref.extract(filename_to_extract, dest_dir)\n",
        "          print(f\"{filename_to_extract} has been extracted to {dest_dir}\")\n",
        "          final = './drive/MyDrive/4YP/Data/'+ filename_to_extract\n",
        "          return wavfile.read(final)\n",
        "  print(f\"{filename_to_extract} not found in any of the provided ZIP files.\")\n",
        "\n",
        "# Read in .csv\n",
        "def csv_read():\n",
        "  metadata = pd.read_csv('./drive/MyDrive/4YP/Data/humbugdb_meta.csv')\n",
        "  metadata = metadata.set_index('id')\n",
        "  return metadata\n",
        "\n",
        "def gaussian(x, mu, sigma):\n",
        "  return np.exp(-((x - mu)**2) / (2 * sigma**2))"
      ],
      "metadata": {
        "id": "DuZugTaguEw3"
      },
      "execution_count": 2,
      "outputs": []
    },
    {
      "cell_type": "markdown",
      "source": [
        "## Mosquito Mixer (see Audio_mix_test)"
      ],
      "metadata": {
        "id": "IPNlXhKG3VpS"
      }
    },
    {
      "cell_type": "code",
      "source": [
        "# Full function for generating noise + mosquito\n",
        "def long_sound_gen(mos_num,noise_factor=1):\n",
        "  metadata = csv_read()\n",
        "\n",
        "  # Choose a long noise sound\n",
        "  subset = metadata[metadata['sound_type'] == 'background']\n",
        "  subset = subset.loc[metadata['length'] > 30]\n",
        "  subset = subset.loc[metadata['sample_rate'] == 44100]\n",
        "  sel_noise = subset.sample()\n",
        "  noise_id = sel_noise.index.values[0]\n",
        "\n",
        "  # Extract the sound wave and find samplerate\n",
        "  n_samplerate, noise = extract_sound(noise_id)\n",
        "\n",
        "  # Choose a shorter mosquito sound\n",
        "  subset = metadata[metadata['sound_type'] == 'mosquito']\n",
        "  subset = subset.loc[(metadata['length'] < 10) & (metadata['length'] > 3)]\n",
        "  subset = subset.loc[metadata['sample_rate'] == 44100]\n",
        "  sel_mos = subset.sample()\n",
        "  mos_id = sel_mos.index.values[0]\n",
        "\n",
        "  # Import the sound wave and find samplerate\n",
        "  samplerate, data = extract_sound(mos_id)\n",
        "\n",
        "\n",
        "  # Add sound to random time in noise\n",
        "  # Initilise vectors to store new audio and whether each sample is from mosquito or noise\n",
        "  new_audio = np.zeros(noise.size)\n",
        "  sound_cat = np.zeros(noise.size)\n",
        "  old_audio = np.zeros(noise.size)\n",
        "\n",
        "  for i in range(0,mos_num):\n",
        "\n",
        "    # Choose a 'time' to put the middle of mosquito sound wave\n",
        "    mosquito_time = np.random.randint(data.size//2, high=noise.size-data.size//2, dtype=int)\n",
        "    print(\"Adding mosquito noise at \" + str(round(mosquito_time/samplerate,3)) + \"s\")\n",
        "\n",
        "    # Put wave into long array\n",
        "    new_audio[mosquito_time - data.size//2:(mosquito_time - data.size//2)+data.size] = data\n",
        "    sound_cat[mosquito_time - data.size//2:mosquito_time + data.size//2] = 1\n",
        "\n",
        "    # Generate gaussian in same place as mos audio\n",
        "    x = np.linspace(0,noise.size,noise.size,dtype=int)\n",
        "    y = gaussian(x,mosquito_time,data.size/6)\n",
        "\n",
        "    # Multiply to apply gaussian to audio\n",
        "    old_audio = y*new_audio + old_audio\n",
        "\n",
        "  # Add faded mosquito sound to background noise\n",
        "  full_audio = noise*noise_factor + old_audio\n",
        "\n",
        "  return full_audio, samplerate, sound_cat"
      ],
      "metadata": {
        "id": "l5AaLLIUuE-3"
      },
      "execution_count": 3,
      "outputs": []
    },
    {
      "cell_type": "markdown",
      "source": [
        "## Audio chopper"
      ],
      "metadata": {
        "id": "0c2MHgwA3huG"
      }
    },
    {
      "cell_type": "code",
      "source": [
        "# Function for chopping up audio and forming matrix (each row is a clip, each column a sample)\n",
        "def chop_chop(audio,samplerate,seconds_per_clip=1):\n",
        "  # Choose bin size (default 1 second clip)\n",
        "  bin_size = int(samplerate*seconds_per_clip)\n",
        "\n",
        "  # Reshape Data\n",
        "  rows = int(audio.size/bin_size)\n",
        "  audio = audio[:rows*bin_size]\n",
        "  audio = np.reshape(audio,(rows,bin_size))\n",
        "  audio = np.concatenate((audio,np.zeros((rows,1))),axis=1)\n",
        "  return audio"
      ],
      "metadata": {
        "id": "JFMldNkZvwgI"
      },
      "execution_count": 4,
      "outputs": []
    },
    {
      "cell_type": "markdown",
      "source": [
        "## Binarizer"
      ],
      "metadata": {
        "id": "sElx-rFg1WDZ"
      }
    },
    {
      "cell_type": "code",
      "source": [
        "def binarize(input_array):\n",
        "  for i in range(len(input_array)):\n",
        "    if input_array[i] > 0.5:\n",
        "      input_array[i] = 1\n",
        "    else:\n",
        "      input_array[i] = 0\n",
        "\n",
        "  return input_array"
      ],
      "metadata": {
        "id": "DNztQOdr1ZZ3"
      },
      "execution_count": 50,
      "outputs": []
    },
    {
      "cell_type": "markdown",
      "source": [
        "## MFCC Generation"
      ],
      "metadata": {
        "id": "Ci2DU7fh3pZ1"
      }
    },
    {
      "cell_type": "code",
      "source": [
        "# Function to generate MFCCs for one long mixed audio\n",
        "def generate_training_data(mosquitoness=2, noise_factor=0.5, chop_size=1, n_mfcc=10):\n",
        "  # Create the long mixed audio (mosquito + noise)\n",
        "  full_audio, samplerate, sound_cat = long_sound_gen(mosquitoness,noise_factor)\n",
        "\n",
        "  audio_normal = winsorize(full_audio)\n",
        "\n",
        "  # Chop audio into X second clips\n",
        "  chopped_audio = chop_chop(audio_normal,samplerate,chop_size)\n",
        "\n",
        "  # Create an average 'mosquitoness' of each clip\n",
        "  chopped_cat = chop_chop(sound_cat,samplerate,chop_size)\n",
        "  av_chopped_cat = np.mean(chopped_cat,axis=1)\n",
        "\n",
        "  # Generate MFCCs for each 1s clip (squeeze as librosa function generates in 2D for some reason)\n",
        "  mfccs = np.zeros((len(chopped_audio),n_mfcc))\n",
        "  for i in range(0,len(chopped_audio)):\n",
        "    test_var = np.squeeze(librosa.feature.mfcc(y=chopped_audio[i].astype(float), sr=samplerate, n_mfcc = n_mfcc, hop_length = len(chopped_audio[i])*2))\n",
        "    mfccs[i] = test_var\n",
        "\n",
        "  # Returns a number of seconds in audio x n_mfcc matrix and an array of sound category (how much mosquito) in each X second chop\n",
        "  return mfccs, av_chopped_cat"
      ],
      "metadata": {
        "id": "DkTwE4AivACO"
      },
      "execution_count": 6,
      "outputs": []
    },
    {
      "cell_type": "code",
      "source": [
        "# Generates training data for several long audio segments\n",
        "def multiple_training_data(amount_of_audio, mosquitoness=2, noise_factor=0.5, chop_size=1, n_mfcc=10):\n",
        "  X, Y = generate_training_data(mosquitoness, noise_factor, chop_size, n_mfcc)\n",
        "  for i in range(0,amount_of_audio-1):\n",
        "    mfccs, av_chopped_cat = generate_training_data()\n",
        "    X = np.concatenate((X,mfccs))\n",
        "    Y = np.concatenate((Y,av_chopped_cat))\n",
        "  return X,Y\n",
        "\n",
        "def multiple_training_random_noise(amount_of_audio, mosquitoness=2, chop_size=1, n_mfcc=10):\n",
        "  X, Y = generate_training_data(mosquitoness, noise_factor=np.random.uniform(low=0.1, high=0.5))\n",
        "  for i in range(0,amount_of_audio-1):\n",
        "    mfccs, av_chopped_cat = generate_training_data(mosquitoness, noise_factor=np.random.uniform(low=0.1, high=0.5))\n",
        "    X = np.concatenate((X,mfccs))\n",
        "    Y = np.concatenate((Y,av_chopped_cat))\n",
        "  return X,Y"
      ],
      "metadata": {
        "id": "_V5DE1h4z0EV"
      },
      "execution_count": 7,
      "outputs": []
    },
    {
      "cell_type": "markdown",
      "source": [
        "# Working Code"
      ],
      "metadata": {
        "id": "btxgFw12vnTz"
      }
    },
    {
      "cell_type": "code",
      "source": [
        "np.random.seed(0)\n",
        "coef, cats = multiple_training_random_noise(10,mosquitoness=2)\n",
        "\n",
        "print(\"MFCC Matrix shape:\" + str(coef.shape))\n",
        "print(\"Mosquitoness Matrix shape:\" + str(cats.shape))"
      ],
      "metadata": {
        "colab": {
          "base_uri": "https://localhost:8080/"
        },
        "id": "-L-ZQtbPvpDF",
        "outputId": "2f16425e-f67e-4dc6-bcfd-29736dcc4ef4"
      },
      "execution_count": 8,
      "outputs": [
        {
          "output_type": "stream",
          "name": "stdout",
          "text": [
            "train/219994.wav has been extracted to ./drive/MyDrive/4YP/Data\n",
            "train/2924.wav has been extracted to ./drive/MyDrive/4YP/Data\n",
            "Adding mosquito noise at 34.073s\n",
            "Adding mosquito noise at 39.605s\n",
            "train/220038.wav has been extracted to ./drive/MyDrive/4YP/Data\n",
            "train/2628.wav has been extracted to ./drive/MyDrive/4YP/Data\n",
            "Adding mosquito noise at 48.526s\n",
            "Adding mosquito noise at 53.792s\n",
            "train/201672.wav has been extracted to ./drive/MyDrive/4YP/Data\n",
            "train/220281.wav has been extracted to ./drive/MyDrive/4YP/Data\n",
            "Adding mosquito noise at 5.748s\n",
            "Adding mosquito noise at 16.981s\n",
            "train/220007.wav has been extracted to ./drive/MyDrive/4YP/Data\n",
            "train/223222.wav has been extracted to ./drive/MyDrive/4YP/Data\n",
            "Adding mosquito noise at 24.43s\n",
            "Adding mosquito noise at 9.215s\n",
            "train/220037.wav has been extracted to ./drive/MyDrive/4YP/Data\n",
            "train/221032.wav has been extracted to ./drive/MyDrive/4YP/Data\n",
            "Adding mosquito noise at 78.915s\n",
            "Adding mosquito noise at 29.552s\n",
            "train/220032.wav has been extracted to ./drive/MyDrive/4YP/Data\n",
            "train/1126.wav has been extracted to ./drive/MyDrive/4YP/Data\n",
            "Adding mosquito noise at 13.327s\n",
            "Adding mosquito noise at 25.796s\n",
            "train/201546.wav has been extracted to ./drive/MyDrive/4YP/Data\n",
            "train/2853.wav has been extracted to ./drive/MyDrive/4YP/Data\n",
            "Adding mosquito noise at 10.032s\n",
            "Adding mosquito noise at 21.171s\n",
            "train/220014.wav has been extracted to ./drive/MyDrive/4YP/Data\n",
            "train/220917.wav has been extracted to ./drive/MyDrive/4YP/Data\n",
            "Adding mosquito noise at 30.992s\n",
            "Adding mosquito noise at 15.764s\n",
            "train/220030.wav has been extracted to ./drive/MyDrive/4YP/Data\n",
            "train/221828.wav has been extracted to ./drive/MyDrive/4YP/Data\n",
            "Adding mosquito noise at 44.753s\n",
            "Adding mosquito noise at 14.718s\n",
            "train/202153.wav has been extracted to ./drive/MyDrive/4YP/Data\n",
            "train/3195.wav has been extracted to ./drive/MyDrive/4YP/Data\n",
            "Adding mosquito noise at 3.386s\n",
            "Adding mosquito noise at 20.482s\n",
            "MFCC Matrix shape:(563, 10)\n",
            "Mosquitoness Matrix shape:(563,)\n"
          ]
        }
      ]
    },
    {
      "cell_type": "markdown",
      "source": [
        "## Split into training and dev"
      ],
      "metadata": {
        "id": "s3BvVi_85Hk2"
      }
    },
    {
      "cell_type": "code",
      "source": [
        "from sklearn.model_selection import train_test_split\n",
        "\n",
        "num_mos = np.count_nonzero(cats)\n",
        "num_back = len(cats) - num_mos\n",
        "\n",
        "print(\"Mosquito: \" + str(num_mos))\n",
        "print(\"Not Mosquito: \"  + str(num_back))\n",
        "\n",
        "all = np.concatenate((coef,cats.reshape(-1, 1)), axis=1)\n",
        "\n",
        "condition = all[:, 10] > 0\n",
        "\n",
        "mos = all[condition]\n",
        "back = all[~condition]\n",
        "\n",
        "print(mos.shape)"
      ],
      "metadata": {
        "id": "763mJDNPvpGW",
        "colab": {
          "base_uri": "https://localhost:8080/"
        },
        "outputId": "6d6b1b71-6f4e-4503-f423-b6822f015f14"
      },
      "execution_count": 40,
      "outputs": [
        {
          "output_type": "stream",
          "name": "stdout",
          "text": [
            "Mosquito: 132\n",
            "Not Mosquito: 431\n",
            "(132, 11)\n"
          ]
        }
      ]
    },
    {
      "cell_type": "code",
      "source": [
        "#X_train, X_dev, y_train, y_dev = train_test_split(coef, cats, test_size=0.2, random_state=42)\n",
        "mos1, mos2 = train_test_split(mos, test_size=0.2, random_state=42)\n",
        "back1, back2 = train_test_split(back, test_size=1-(mos1.shape[0]/back.shape[0]), random_state=42)\n",
        "\n",
        "rng = np.random.default_rng()\n",
        "\n",
        "train = np.vstack([mos1,back1])\n",
        "dev = np.vstack([mos2,back2])\n",
        "\n",
        "rng.shuffle(train, axis=0)\n",
        "rng.shuffle(dev, axis=0)\n",
        "\n",
        "X_train = train[:, 0:10]\n",
        "y_train = train[:, 10]\n",
        "X_dev = dev[:, 0:10]\n",
        "y_dev = dev[:, 10]\n",
        "\n",
        "print(X_train.shape)\n",
        "print(y_dev.shape)"
      ],
      "metadata": {
        "colab": {
          "base_uri": "https://localhost:8080/"
        },
        "id": "dKtlcJNc0ASQ",
        "outputId": "0c9781f8-db79-4ac2-d629-55acb00fb9e3"
      },
      "execution_count": 44,
      "outputs": [
        {
          "output_type": "stream",
          "name": "stdout",
          "text": [
            "(210, 10)\n",
            "(353,)\n"
          ]
        }
      ]
    },
    {
      "cell_type": "markdown",
      "source": [
        "## Test out K-nearest neighbor"
      ],
      "metadata": {
        "id": "2OE0vAQW5Lte"
      }
    },
    {
      "cell_type": "code",
      "source": [
        "from sklearn.neighbors import KNeighborsRegressor\n",
        "\n",
        "n = 40\n",
        "error = np.zeros(n)\n",
        "\n",
        "for i in range(1,n):\n",
        "  neigh = KNeighborsRegressor(n_neighbors=i)\n",
        "  neigh.fit(X_train, y_train)\n",
        "\n",
        "  y_pred = neigh.predict(X_dev)\n",
        "\n",
        "  error[i] = ((y_pred - y_dev)**2).mean()\n",
        "\n",
        "\n",
        "plt.plot(error)\n",
        "plt.xlabel(\"K\")\n",
        "plt.ylabel(\"MSE\")\n",
        "plt.plot()"
      ],
      "metadata": {
        "id": "n_mnWPFJzZe6",
        "colab": {
          "base_uri": "https://localhost:8080/",
          "height": 466
        },
        "outputId": "633c451c-7f70-4eeb-8fd9-fc33ba57d2bb"
      },
      "execution_count": 45,
      "outputs": [
        {
          "output_type": "execute_result",
          "data": {
            "text/plain": [
              "[]"
            ]
          },
          "metadata": {},
          "execution_count": 45
        },
        {
          "output_type": "display_data",
          "data": {
            "text/plain": [
              "<Figure size 640x480 with 1 Axes>"
            ],
            "image/png": "[encoded data removed]"
          },
          "metadata": {}
        }
      ]
    },
    {
      "cell_type": "code",
      "source": [
        "print(np.argmin(error[1:]))\n",
        "print(np.min(error[1:]))"
      ],
      "metadata": {
        "colab": {
          "base_uri": "https://localhost:8080/"
        },
        "id": "doWS4jjF5PKQ",
        "outputId": "4473fc9c-1da6-45ec-eb22-c5390c156607"
      },
      "execution_count": 46,
      "outputs": [
        {
          "output_type": "stream",
          "name": "stdout",
          "text": [
            "14\n",
            "0.148812814109274\n"
          ]
        }
      ]
    },
    {
      "cell_type": "code",
      "source": [
        "neigh = KNeighborsRegressor(n_neighbors=8)\n",
        "neigh.fit(X_train, y_train)\n",
        "y_pred = neigh.predict(X_dev)\n",
        "\n",
        "print(y_pred)"
      ],
      "metadata": {
        "colab": {
          "base_uri": "https://localhost:8080/"
        },
        "id": "gOO4yxE_6rPc",
        "outputId": "04764f09-ce62-42be-907c-c7ca5980b2ae"
      },
      "execution_count": 51,
      "outputs": [
        {
          "output_type": "stream",
          "name": "stdout",
          "text": [
            "[0.         0.19036983 0.19602163 0.12499717 0.92252443 0.58262851\n",
            " 0.40982064 0.28058321 0.3749915  0.16093456 0.3749915  0.45253792\n",
            " 0.15558604 0.62498583 0.48019886 0.         0.11980454 0.26364198\n",
            " 0.49998866 0.11980454 0.24999433 0.49998866 0.06897236 0.61691628\n",
            " 0.5960324  0.17917111 0.25792782 0.18740505 0.         0.11980454\n",
            " 0.12499717 0.83878483 0.21622809 0.06897236 0.15032822 0.74191345\n",
            " 0.28477812 0.7183794  0.24999433 0.74998299 0.3749915  0.11541122\n",
            " 0.24999433 0.74998299 0.74998299 0.7183794  0.31187785 0.24999433\n",
            " 0.12499717 0.43687501 0.18740505 0.21622809 0.17133965 0.06897236\n",
            " 0.15032822 0.38488356 0.27559466 0.12499717 0.15032822 0.53057754\n",
            " 0.59909072 0.74998299 0.19036983 0.62498583 0.78902973 0.92601642\n",
            " 0.83878483 0.5887905  0.58262851 0.49082504 0.83878483 0.49857713\n",
            " 0.10156799 0.08063026 0.03917428 0.24999433 0.3749915  0.26175143\n",
            " 0.49998866 0.10081687 0.55909446 0.15558604 0.74191345 0.02533106\n",
            " 0.62498583 0.43685234 0.24999433 0.12614793 0.27559466 0.86691061\n",
            " 0.62498583 0.18740505 0.17477778 0.16018344 0.12499717 0.68409163\n",
            " 0.22657933 0.19396952 0.62498583 0.15558604 0.62498583 0.31185517\n",
            " 0.19036983 0.04634249 0.49082504 0.62498583 0.11980454 0.10081687\n",
            " 0.74998299 0.68409163 0.11980454 0.7183794  0.         0.07102447\n",
            " 0.5618495  0.27532539 0.12499717 0.10081687 0.         0.21622809\n",
            " 0.33091086 0.3749915  0.55909446 0.96837373 0.69264019 0.38435069\n",
            " 0.45668749 0.86691061 0.49998866 0.24999433 0.62498583 0.7183794\n",
            " 0.12499717 0.12499717 0.24999433 0.48201855 0.92601642 0.62498583\n",
            " 0.19396952 0.3749915  0.17705381 0.24999433 0.45668749 0.19396952\n",
            " 0.17705381 0.27532539 0.         0.18688068 0.19602163 0.74998299\n",
            " 0.15032822 0.27559466 0.56187218 0.12499717 0.         0.06897236\n",
            " 0.11980454 0.6158222  0.49998866 0.37630666 0.5420597  0.06897236\n",
            " 0.15032822 0.24999433 0.27559466 0.65981497 0.26364198 0.19935772\n",
            " 0.19036983 0.62498583 0.5618495  0.87498016 0.19667071 0.24999433\n",
            " 0.14791048 0.24999433 0.18740505 0.25540804 0.2245584  0.04634249\n",
            " 0.24999433 0.18740505 0.40558037 0.2245584  0.         0.12499717\n",
            " 0.         0.19935772 0.74998299 0.07167354 0.12499717 0.27559466\n",
            " 0.45668749 0.42880547 0.13293066 0.19396952 0.19396952 0.6235743\n",
            " 0.3749915  0.19602163 0.12499717 0.62498583 0.29633682 0.35488141\n",
            " 0.62498583 0.28477812 0.03917428 0.12499717 0.07167354 0.86691061\n",
            " 0.18740505 0.24999433 0.27559466 0.02533106 0.62498583 0.17477778\n",
            " 0.5420597  0.49998866 0.27559466 0.74081937 0.11980454 0.12499717\n",
            " 0.49998866 0.15032822 0.11980454 0.12614793 0.12499717 0.15032822\n",
            " 0.15978096 0.74998299 0.60519603 0.19036983 0.12499717 0.18740505\n",
            " 0.28058321 0.         0.15558604 0.40558037 0.27559466 0.11980454\n",
            " 0.13293066 0.18740505 0.18740505 0.12499717 0.12499717 0.\n",
            " 0.46379334 0.19396952 0.17477778 0.43685234 0.02533106 0.11980454\n",
            " 0.19667071 0.3749915  0.19396952 0.12499717 0.12499717 0.06897236\n",
            " 0.62498583 0.62498583 0.24999433 0.21622809 0.23642038 0.32141278\n",
            " 0.24999433 0.22657933 0.12499717 0.3749915  0.64842067 0.32526757\n",
            " 0.20238487 0.84337657 0.68409163 0.19396952 0.19036983 0.72644895\n",
            " 0.3210188  0.18688068 0.41974672 0.60519603 0.19396952 0.74191345\n",
            " 0.12499717 0.43687501 0.45668749 0.28058321 0.27559466 0.25603728\n",
            " 0.79047244 0.11980454 0.38435069 0.15558604 0.06897236 0.3749915\n",
            " 0.28058321 0.19604147 0.36692195 0.19396952 0.56187218 0.62498583\n",
            " 0.17477778 0.12499717 0.11980454 0.23642038 0.09152854 0.12499717\n",
            " 0.40977529 0.23020453 0.12499717 0.25303565 0.49998866 0.27559466\n",
            " 0.40558037 0.43685234 0.03058888 0.48019886 0.19396952 0.24999433\n",
            " 0.22581404 0.28058321 0.19641561 0.27532539 0.02533106 0.\n",
            " 0.38252817 0.31187785 0.15032822 0.06897236 0.17705381 0.13293066\n",
            " 0.15558604 0.3749915  0.13293066 0.12499717 0.74998299 0.62498583\n",
            " 0.74191345 0.19667071 0.24999433 0.11980454 0.74998299 0.44601596\n",
            " 0.49082504 0.23020453 0.31185517 0.         0.3749915  0.19667071\n",
            " 0.15558604 0.49998866 0.62498583 0.3749915  0.62498583]\n"
          ]
        }
      ]
    },
    {
      "cell_type": "code",
      "source": [
        "y_pred = binarize(y_pred)\n",
        "y_dev = binarize(y_dev)"
      ],
      "metadata": {
        "id": "eHS6KkgxWfZ5"
      },
      "execution_count": 52,
      "outputs": []
    },
    {
      "cell_type": "code",
      "source": [
        "from sklearn.metrics import confusion_matrix, ConfusionMatrixDisplay\n",
        "confusion = confusion_matrix(y_dev, y_pred)\n",
        "true_pos = confusion[1][1]\n",
        "true_neg = confusion[0][0]\n",
        "false_pos = confusion[0][1]\n",
        "false_neg = confusion[1][0]\n",
        "\n",
        "print(\"True positive: \" + str(true_pos))\n",
        "print(\"True negative: \" + str(true_neg))\n",
        "print(\"False positive: \" + str(false_pos))\n",
        "print(\"False negative: \" + str(false_neg))\n",
        "\n",
        "sensitivity = true_pos/(true_pos+false_neg)\n",
        "specificity = true_neg/(true_neg+false_pos)\n",
        "\n",
        "print(\"Sensitivity: \" + str(sensitivity))\n",
        "print(\"Specificity: \" + str(specificity))\n",
        "print(\"Score: \" + str(specificity+specificity))\n",
        "disp = ConfusionMatrixDisplay(confusion, display_labels = [\"Background\", \"Mosquito\"])\n",
        "disp.plot()\n",
        "plt.show()"
      ],
      "metadata": {
        "colab": {
          "base_uri": "https://localhost:8080/",
          "height": 571
        },
        "id": "NABo75R_-jkm",
        "outputId": "ccbdc708-5b6d-4892-cde0-51b916ac0dfc"
      },
      "execution_count": 53,
      "outputs": [
        {
          "output_type": "stream",
          "name": "stdout",
          "text": [
            "True positive: 9\n",
            "True negative: 261\n",
            "False positive: 69\n",
            "False negative: 14\n",
            "Sensitivity: 0.391304347826087\n",
            "Specificity: 0.7909090909090909\n",
            "Score: 1.5818181818181818\n"
          ]
        },
        {
          "output_type": "display_data",
          "data": {
            "text/plain": [
              "<Figure size 640x480 with 2 Axes>"
            ],
            "image/png": "[encoded data removed]"
          },
          "metadata": {}
        }
      ]
    }
  ]
}