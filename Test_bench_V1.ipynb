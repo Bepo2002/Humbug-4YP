{
  "nbformat": 4,
  "nbformat_minor": 0,
  "metadata": {
    "colab": {
      "provenance": [],
      "mount_file_id": "1U2Lxf0G-7OiyMQYs7Nyanh_3ttyqJHpe",
      "authorship_tag": "ABX9TyNytrsMjRlnZe0ffs515StI",
      "include_colab_link": true
    },
    "kernelspec": {
      "name": "python3",
      "display_name": "Python 3"
    },
    "language_info": {
      "name": "python"
    }
  },
  "cells": [
    {
      "cell_type": "markdown",
      "metadata": {
        "id": "view-in-github",
        "colab_type": "text"
      },
      "source": [
        "<a href=\"https://colab.research.google.com/github/Bepo2002/Humbug-4YP/blob/main/Test_bench_V1.ipynb\" target=\"_parent\"><img src=\"https://colab.research.google.com/assets/colab-badge.svg\" alt=\"Open In Colab\"/></a>"
      ]
    },
    {
      "cell_type": "markdown",
      "source": [
        "# Mosquito Virtual Test Bench V1.2"
      ],
      "metadata": {
        "id": "YjQ6ZtzQ3HGq"
      }
    },
    {
      "cell_type": "code",
      "execution_count": null,
      "metadata": {
        "id": "crrjOOZ0p3bM"
      },
      "outputs": [],
      "source": [
        "import zipfile\n",
        "from scipy.io import wavfile\n",
        "import pandas as pd\n",
        "import numpy as np\n",
        "import matplotlib.pyplot as plt\n",
        "from IPython.display import Audio\n",
        "import librosa\n",
        "from scipy.stats.mstats import winsorize"
      ]
    },
    {
      "cell_type": "markdown",
      "source": [
        "# Helper Functions"
      ],
      "metadata": {
        "id": "-OUM1ZRZ3SDD"
      }
    },
    {
      "cell_type": "code",
      "source": [
        "# Finds specific sound in zip and extracts it\n",
        "def extract_sound(filename):\n",
        "  zip_files = ['./drive/MyDrive/4YP/train.zip','./drive/MyDrive/4YP/dev.zip']\n",
        "  folders = ['train/', 'dev/a/', 'dev/b/']\n",
        "  dest_dir = './drive/MyDrive/4YP/Data'\n",
        "  filename_to_extract = str(filename) + '.wav'\n",
        "\n",
        "  for zip_path in zip_files:\n",
        "    for folder in folders:\n",
        "      with zipfile.ZipFile(zip_path, 'r') as zip_ref:\n",
        "        filename_to_extract = folder + filename_to_extract\n",
        "        if filename_to_extract in zip_ref.namelist():\n",
        "          zip_ref.extract(filename_to_extract, dest_dir)\n",
        "          print(f\"{filename_to_extract} has been extracted to {dest_dir}\")\n",
        "          final = './drive/MyDrive/4YP/Data/'+ filename_to_extract\n",
        "          return wavfile.read(final)\n",
        "  print(f\"{filename_to_extract} not found in any of the provided ZIP files.\")\n",
        "\n",
        "# Read in .csv\n",
        "def csv_read():\n",
        "  metadata = pd.read_csv('./drive/MyDrive/4YP/Data/humbugdb_zenodo_edited.csv')\n",
        "  metadata = metadata.set_index('id')\n",
        "  return metadata\n",
        "\n",
        "def gaussian(x, mu, sigma):\n",
        "  return np.exp(-((x - mu)**2) / (2 * sigma**2))"
      ],
      "metadata": {
        "id": "DuZugTaguEw3"
      },
      "execution_count": null,
      "outputs": []
    },
    {
      "cell_type": "markdown",
      "source": [
        "## Mosquito Mixer (see Audio_mix_test)"
      ],
      "metadata": {
        "id": "IPNlXhKG3VpS"
      }
    },
    {
      "cell_type": "code",
      "source": [
        "# Full function for generating noise + mosquito\n",
        "def long_sound_gen(mos_num,noise_factor=1):\n",
        "  metadata = csv_read()\n",
        "\n",
        "  # Choose a long noise sound\n",
        "  subset = metadata[metadata['sound_type'] == 'background']\n",
        "  subset = subset.loc[metadata['length'] > 10]\n",
        "  subset = subset.loc[metadata['sample_rate'] == 44100]\n",
        "  subset = subset.loc[metadata['clean'] == \"Y\"]\n",
        "  sel_noise = subset.sample()\n",
        "  noise_id = sel_noise.index.values[0]\n",
        "\n",
        "  # Extract the sound wave and find samplerate\n",
        "  n_samplerate, noise = extract_sound(noise_id)\n",
        "\n",
        "  # Choose a shorter mosquito sound\n",
        "  subset = metadata[metadata['sound_type'] == 'mosquito']\n",
        "  subset = subset.loc[(metadata['length'] < 10) & (metadata['length'] > 1)]\n",
        "  subset = subset.loc[metadata['sample_rate'] == 44100]\n",
        "  sel_mos = subset.sample()\n",
        "  mos_id = sel_mos.index.values[0]\n",
        "\n",
        "  # Import the sound wave and find samplerate\n",
        "  samplerate, data = extract_sound(mos_id)\n",
        "\n",
        "\n",
        "  # Add sound to random time in noise\n",
        "  # Initilise vectors to store new audio and whether each sample is from mosquito or noise\n",
        "  new_audio = np.zeros(noise.size)\n",
        "  sound_cat = np.zeros(noise.size)\n",
        "  old_audio = np.zeros(noise.size)\n",
        "\n",
        "  for i in range(0,mos_num):\n",
        "\n",
        "    # Choose a 'time' to put the middle of mosquito sound wave\n",
        "    mosquito_time = np.random.randint(data.size//2, high=noise.size-data.size//2, dtype=int)\n",
        "    print(\"Adding mosquito noise at \" + str(round(mosquito_time/samplerate,3)) + \"s\")\n",
        "\n",
        "    # Put wave into long array\n",
        "    new_audio[mosquito_time - data.size//2:(mosquito_time - data.size//2)+data.size] = data\n",
        "    sound_cat[mosquito_time - data.size//2:mosquito_time + data.size//2] = 1\n",
        "\n",
        "    # Generate gaussian in same place as mos audio\n",
        "    x = np.linspace(0,noise.size,noise.size,dtype=int)\n",
        "    y = gaussian(x,mosquito_time,data.size/6)\n",
        "\n",
        "    # Multiply to apply gaussian to audio\n",
        "    old_audio = y*new_audio + old_audio\n",
        "\n",
        "  # Add faded mosquito sound to background noise\n",
        "  full_audio = noise*noise_factor + old_audio\n",
        "\n",
        "  return full_audio, samplerate, sound_cat"
      ],
      "metadata": {
        "id": "l5AaLLIUuE-3"
      },
      "execution_count": null,
      "outputs": []
    },
    {
      "cell_type": "markdown",
      "source": [
        "## Audio chopper"
      ],
      "metadata": {
        "id": "0c2MHgwA3huG"
      }
    },
    {
      "cell_type": "code",
      "source": [
        "# Function for chopping up audio and forming matrix (each row is a clip, each column a sample)\n",
        "def chop_chop(audio,samplerate,seconds_per_clip=1):\n",
        "  # Choose bin size (default 1 second clip)\n",
        "  bin_size = int(samplerate*seconds_per_clip)\n",
        "\n",
        "  # Reshape Data\n",
        "  rows = int(audio.size/bin_size)\n",
        "  audio = audio[:rows*bin_size]\n",
        "  audio = np.reshape(audio,(rows,bin_size))\n",
        "  audio = np.concatenate((audio,np.zeros((rows,1))),axis=1)\n",
        "  return audio"
      ],
      "metadata": {
        "id": "JFMldNkZvwgI"
      },
      "execution_count": null,
      "outputs": []
    },
    {
      "cell_type": "markdown",
      "source": [
        "## Binarizer"
      ],
      "metadata": {
        "id": "sElx-rFg1WDZ"
      }
    },
    {
      "cell_type": "code",
      "source": [
        "def binarize(input_array,thresh = 0):\n",
        "  for i in range(len(input_array)):\n",
        "    if input_array[i] > thresh:\n",
        "      input_array[i] = 1\n",
        "    else:\n",
        "      input_array[i] = 0\n",
        "\n",
        "  return input_array"
      ],
      "metadata": {
        "id": "DNztQOdr1ZZ3"
      },
      "execution_count": null,
      "outputs": []
    },
    {
      "cell_type": "markdown",
      "source": [
        "## MFCC Generation"
      ],
      "metadata": {
        "id": "Ci2DU7fh3pZ1"
      }
    },
    {
      "cell_type": "code",
      "source": [
        "# Function to generate MFCCs for one long mixed audio\n",
        "def generate_training_data(mosquitoness=2, noise_factor=0.5, chop_size=1, n_mfcc=10):\n",
        "  # Create the long mixed audio (mosquito + noise)\n",
        "  full_audio, samplerate, sound_cat = long_sound_gen(mosquitoness,noise_factor)\n",
        "\n",
        "  # audio_normal = winsorize(full_audio)\n",
        "\n",
        "  # Chop audio into X second clips\n",
        "  chopped_audio = chop_chop(full_audio,samplerate,chop_size)\n",
        "\n",
        "  # Create an average 'mosquitoness' of each clip\n",
        "  chopped_cat = chop_chop(sound_cat,samplerate,chop_size)\n",
        "  av_chopped_cat = np.mean(chopped_cat,axis=1)\n",
        "\n",
        "  # Generate MFCCs for each 1s clip (squeeze as librosa function generates in 2D for some reason)\n",
        "  mfccs = np.zeros((len(chopped_audio),n_mfcc))\n",
        "  for i in range(0,len(chopped_audio)):\n",
        "    test_var = np.squeeze(librosa.feature.mfcc(y=chopped_audio[i].astype(float),\n",
        "                                               sr=samplerate, n_mfcc = n_mfcc,\n",
        "                                               hop_length = len(chopped_audio[i])*2))\n",
        "    mfccs[i] = test_var\n",
        "\n",
        "  # Returns a number of seconds in audio x n_mfcc matrix and an array of sound category (how much mosquito) in each X second chop\n",
        "  return mfccs, av_chopped_cat"
      ],
      "metadata": {
        "id": "DkTwE4AivACO"
      },
      "execution_count": null,
      "outputs": []
    },
    {
      "cell_type": "code",
      "source": [
        "# Generates training data for several long audio segments\n",
        "def multiple_training_data(amount_of_audio, mosquitoness=2, noise_factor=0.5,\n",
        "                           chop_size=1, n_mfcc=10):\n",
        "  X, Y = generate_training_data(mosquitoness, noise_factor, chop_size, n_mfcc)\n",
        "  for i in range(0,amount_of_audio-1):\n",
        "    mfccs, av_chopped_cat = generate_training_data()\n",
        "    X = np.concatenate((X,mfccs))\n",
        "    Y = np.concatenate((Y,av_chopped_cat))\n",
        "  return X,Y\n",
        "\n",
        "def multiple_training_random_noise(amount_of_audio, mosquitoness=2,\n",
        "                                   chop_size=1, n_mfcc=10):\n",
        "  X, Y = generate_training_data(mosquitoness,\n",
        "                                noise_factor=np.random.uniform(low=0.1,\n",
        "                                                               high=0.5))\n",
        "  for i in range(0,amount_of_audio-1):\n",
        "    mfccs, av_chopped_cat = generate_training_data(mosquitoness,\n",
        "                                                   noise_factor=np.random.uniform(low=0.1,\n",
        "                                                                                  high=0.5))\n",
        "    X = np.concatenate((X,mfccs))\n",
        "    Y = np.concatenate((Y,av_chopped_cat))\n",
        "  return X,Y"
      ],
      "metadata": {
        "id": "_V5DE1h4z0EV"
      },
      "execution_count": null,
      "outputs": []
    },
    {
      "cell_type": "markdown",
      "source": [
        "# Working Code"
      ],
      "metadata": {
        "id": "btxgFw12vnTz"
      }
    },
    {
      "cell_type": "code",
      "source": [
        "np.random.seed(0)\n",
        "coef, cats = multiple_training_random_noise(50,mosquitoness=3)\n",
        "\n",
        "print(\"MFCC Matrix shape:\" + str(coef.shape))\n",
        "print(\"Mosquitoness Matrix shape:\" + str(cats.shape))"
      ],
      "metadata": {
        "colab": {
          "base_uri": "https://localhost:8080/"
        },
        "id": "-L-ZQtbPvpDF",
        "outputId": "d697f181-f76e-4117-aede-7547c26ab112"
      },
      "execution_count": null,
      "outputs": [
        {
          "output_type": "stream",
          "name": "stdout",
          "text": [
            "train/734.wav has been extracted to ./drive/MyDrive/4YP/Data\n",
            "train/220997.wav has been extracted to ./drive/MyDrive/4YP/Data\n",
            "Adding mosquito noise at 6.388s\n",
            "Adding mosquito noise at 2.272s\n",
            "Adding mosquito noise at 8.801s\n",
            "train/1564.wav has been extracted to ./drive/MyDrive/4YP/Data\n",
            "train/3498.wav has been extracted to ./drive/MyDrive/4YP/Data\n",
            "Adding mosquito noise at 7.249s\n",
            "Adding mosquito noise at 5.815s\n",
            "Adding mosquito noise at 8.319s\n",
            "train/1352.wav has been extracted to ./drive/MyDrive/4YP/Data\n",
            "train/2793.wav has been extracted to ./drive/MyDrive/4YP/Data\n",
            "Adding mosquito noise at 15.158s\n",
            "Adding mosquito noise at 6.769s\n",
            "Adding mosquito noise at 14.702s\n",
            "train/1564.wav has been extracted to ./drive/MyDrive/4YP/Data\n",
            "train/221506.wav has been extracted to ./drive/MyDrive/4YP/Data\n",
            "Adding mosquito noise at 8.281s\n",
            "Adding mosquito noise at 3.808s\n",
            "Adding mosquito noise at 6.811s\n",
            "train/1352.wav has been extracted to ./drive/MyDrive/4YP/Data\n",
            "train/221220.wav has been extracted to ./drive/MyDrive/4YP/Data\n",
            "Adding mosquito noise at 16.413s\n",
            "Adding mosquito noise at 19.551s\n",
            "Adding mosquito noise at 12.845s\n",
            "train/591.wav has been extracted to ./drive/MyDrive/4YP/Data\n",
            "train/2688.wav has been extracted to ./drive/MyDrive/4YP/Data\n",
            "Adding mosquito noise at 9.891s\n",
            "Adding mosquito noise at 2.741s\n",
            "Adding mosquito noise at 12.712s\n",
            "train/612.wav has been extracted to ./drive/MyDrive/4YP/Data\n",
            "train/2857.wav has been extracted to ./drive/MyDrive/4YP/Data\n",
            "Adding mosquito noise at 13.299s\n",
            "Adding mosquito noise at 19.379s\n",
            "Adding mosquito noise at 12.204s\n",
            "train/817.wav has been extracted to ./drive/MyDrive/4YP/Data\n",
            "train/220869.wav has been extracted to ./drive/MyDrive/4YP/Data\n",
            "Adding mosquito noise at 9.493s\n",
            "Adding mosquito noise at 9.987s\n",
            "Adding mosquito noise at 4.551s\n",
            "train/612.wav has been extracted to ./drive/MyDrive/4YP/Data\n",
            "train/3468.wav has been extracted to ./drive/MyDrive/4YP/Data\n",
            "Adding mosquito noise at 7.22s\n",
            "Adding mosquito noise at 9.018s\n",
            "Adding mosquito noise at 12.113s\n",
            "train/1173.wav has been extracted to ./drive/MyDrive/4YP/Data\n",
            "train/3037.wav has been extracted to ./drive/MyDrive/4YP/Data\n",
            "Adding mosquito noise at 10.812s\n",
            "Adding mosquito noise at 12.172s\n",
            "Adding mosquito noise at 12.331s\n",
            "train/1564.wav has been extracted to ./drive/MyDrive/4YP/Data\n",
            "train/3242.wav has been extracted to ./drive/MyDrive/4YP/Data\n",
            "Adding mosquito noise at 7.985s\n",
            "Adding mosquito noise at 6.325s\n",
            "Adding mosquito noise at 7.742s\n",
            "train/591.wav has been extracted to ./drive/MyDrive/4YP/Data\n",
            "train/223190.wav has been extracted to ./drive/MyDrive/4YP/Data\n",
            "Adding mosquito noise at 3.874s\n",
            "Adding mosquito noise at 6.234s\n",
            "Adding mosquito noise at 15.097s\n",
            "train/1352.wav has been extracted to ./drive/MyDrive/4YP/Data\n",
            "train/221007.wav has been extracted to ./drive/MyDrive/4YP/Data\n",
            "Adding mosquito noise at 11.09s\n",
            "Adding mosquito noise at 11.846s\n",
            "Adding mosquito noise at 8.304s\n",
            "train/591.wav has been extracted to ./drive/MyDrive/4YP/Data\n",
            "train/221350.wav has been extracted to ./drive/MyDrive/4YP/Data\n",
            "Adding mosquito noise at 12.458s\n",
            "Adding mosquito noise at 5.024s\n",
            "Adding mosquito noise at 8.339s\n",
            "train/591.wav has been extracted to ./drive/MyDrive/4YP/Data\n",
            "train/222250.wav has been extracted to ./drive/MyDrive/4YP/Data\n",
            "Adding mosquito noise at 9.829s\n",
            "Adding mosquito noise at 14.0s\n",
            "Adding mosquito noise at 9.565s\n",
            "train/591.wav has been extracted to ./drive/MyDrive/4YP/Data\n",
            "train/4223.wav has been extracted to ./drive/MyDrive/4YP/Data\n",
            "Adding mosquito noise at 13.404s\n",
            "Adding mosquito noise at 12.897s\n",
            "Adding mosquito noise at 13.005s\n",
            "train/1564.wav has been extracted to ./drive/MyDrive/4YP/Data\n",
            "train/4333.wav has been extracted to ./drive/MyDrive/4YP/Data\n",
            "Adding mosquito noise at 6.627s\n",
            "Adding mosquito noise at 4.357s\n",
            "Adding mosquito noise at 11.36s\n",
            "train/1564.wav has been extracted to ./drive/MyDrive/4YP/Data\n",
            "train/3031.wav has been extracted to ./drive/MyDrive/4YP/Data\n",
            "Adding mosquito noise at 9.037s\n",
            "Adding mosquito noise at 4.976s\n",
            "Adding mosquito noise at 5.032s\n",
            "train/1564.wav has been extracted to ./drive/MyDrive/4YP/Data\n",
            "train/221472.wav has been extracted to ./drive/MyDrive/4YP/Data\n",
            "Adding mosquito noise at 3.229s\n",
            "Adding mosquito noise at 8.866s\n",
            "Adding mosquito noise at 4.157s\n",
            "train/612.wav has been extracted to ./drive/MyDrive/4YP/Data\n",
            "train/220789.wav has been extracted to ./drive/MyDrive/4YP/Data\n",
            "Adding mosquito noise at 1.617s\n",
            "Adding mosquito noise at 11.947s\n",
            "Adding mosquito noise at 16.103s\n",
            "train/222808.wav has been extracted to ./drive/MyDrive/4YP/Data\n",
            "train/3323.wav has been extracted to ./drive/MyDrive/4YP/Data\n",
            "Adding mosquito noise at 6.58s\n",
            "Adding mosquito noise at 6.442s\n",
            "Adding mosquito noise at 7.121s\n",
            "train/1352.wav has been extracted to ./drive/MyDrive/4YP/Data\n",
            "train/221055.wav has been extracted to ./drive/MyDrive/4YP/Data\n",
            "Adding mosquito noise at 3.847s\n",
            "Adding mosquito noise at 11.465s\n",
            "Adding mosquito noise at 9.736s\n",
            "train/222808.wav has been extracted to ./drive/MyDrive/4YP/Data\n",
            "train/4288.wav has been extracted to ./drive/MyDrive/4YP/Data\n",
            "Adding mosquito noise at 7.315s\n",
            "Adding mosquito noise at 2.652s\n",
            "Adding mosquito noise at 14.504s\n",
            "train/222801.wav has been extracted to ./drive/MyDrive/4YP/Data\n",
            "train/221620.wav has been extracted to ./drive/MyDrive/4YP/Data\n",
            "Adding mosquito noise at 6.845s\n",
            "Adding mosquito noise at 3.644s\n",
            "Adding mosquito noise at 1.881s\n",
            "train/222808.wav has been extracted to ./drive/MyDrive/4YP/Data\n",
            "train/221488.wav has been extracted to ./drive/MyDrive/4YP/Data\n",
            "Adding mosquito noise at 3.988s\n",
            "Adding mosquito noise at 11.892s\n",
            "Adding mosquito noise at 11.504s\n",
            "train/591.wav has been extracted to ./drive/MyDrive/4YP/Data\n",
            "train/221816.wav has been extracted to ./drive/MyDrive/4YP/Data\n",
            "Adding mosquito noise at 6.004s\n",
            "Adding mosquito noise at 4.035s\n",
            "Adding mosquito noise at 3.627s\n",
            "train/817.wav has been extracted to ./drive/MyDrive/4YP/Data\n",
            "train/220509.wav has been extracted to ./drive/MyDrive/4YP/Data\n",
            "Adding mosquito noise at 8.832s\n",
            "Adding mosquito noise at 8.316s\n",
            "Adding mosquito noise at 10.906s\n",
            "train/817.wav has been extracted to ./drive/MyDrive/4YP/Data\n",
            "train/3426.wav has been extracted to ./drive/MyDrive/4YP/Data\n",
            "Adding mosquito noise at 9.103s\n",
            "Adding mosquito noise at 8.957s\n",
            "Adding mosquito noise at 6.848s\n",
            "train/1564.wav has been extracted to ./drive/MyDrive/4YP/Data\n",
            "train/222147.wav has been extracted to ./drive/MyDrive/4YP/Data\n",
            "Adding mosquito noise at 9.837s\n",
            "Adding mosquito noise at 8.642s\n",
            "Adding mosquito noise at 6.174s\n",
            "train/734.wav has been extracted to ./drive/MyDrive/4YP/Data\n",
            "train/3508.wav has been extracted to ./drive/MyDrive/4YP/Data\n",
            "Adding mosquito noise at 5.542s\n",
            "Adding mosquito noise at 5.649s\n",
            "Adding mosquito noise at 5.785s\n",
            "train/1352.wav has been extracted to ./drive/MyDrive/4YP/Data\n",
            "train/220946.wav has been extracted to ./drive/MyDrive/4YP/Data\n",
            "Adding mosquito noise at 1.883s\n",
            "Adding mosquito noise at 3.403s\n",
            "Adding mosquito noise at 6.908s\n",
            "train/734.wav has been extracted to ./drive/MyDrive/4YP/Data\n",
            "train/2801.wav has been extracted to ./drive/MyDrive/4YP/Data\n",
            "Adding mosquito noise at 5.958s\n",
            "Adding mosquito noise at 6.749s\n",
            "Adding mosquito noise at 8.165s\n",
            "train/1352.wav has been extracted to ./drive/MyDrive/4YP/Data\n",
            "train/221308.wav has been extracted to ./drive/MyDrive/4YP/Data\n",
            "Adding mosquito noise at 3.078s\n",
            "Adding mosquito noise at 2.506s\n",
            "Adding mosquito noise at 9.198s\n",
            "train/1034.wav has been extracted to ./drive/MyDrive/4YP/Data\n",
            "train/220747.wav has been extracted to ./drive/MyDrive/4YP/Data\n",
            "Adding mosquito noise at 5.685s\n",
            "Adding mosquito noise at 6.022s\n",
            "Adding mosquito noise at 4.214s\n",
            "train/1034.wav has been extracted to ./drive/MyDrive/4YP/Data\n",
            "train/220287.wav has been extracted to ./drive/MyDrive/4YP/Data\n",
            "Adding mosquito noise at 13.781s\n",
            "Adding mosquito noise at 10.738s\n",
            "Adding mosquito noise at 7.086s\n",
            "train/734.wav has been extracted to ./drive/MyDrive/4YP/Data\n",
            "train/220851.wav has been extracted to ./drive/MyDrive/4YP/Data\n",
            "Adding mosquito noise at 3.491s\n",
            "Adding mosquito noise at 4.859s\n",
            "Adding mosquito noise at 2.442s\n",
            "train/817.wav has been extracted to ./drive/MyDrive/4YP/Data\n",
            "train/220228.wav has been extracted to ./drive/MyDrive/4YP/Data\n",
            "Adding mosquito noise at 12.801s\n",
            "Adding mosquito noise at 13.024s\n",
            "Adding mosquito noise at 3.673s\n",
            "train/222808.wav has been extracted to ./drive/MyDrive/4YP/Data\n",
            "train/220448.wav has been extracted to ./drive/MyDrive/4YP/Data\n",
            "Adding mosquito noise at 7.702s\n",
            "Adding mosquito noise at 6.576s\n",
            "Adding mosquito noise at 9.601s\n",
            "train/591.wav has been extracted to ./drive/MyDrive/4YP/Data\n",
            "train/3048.wav has been extracted to ./drive/MyDrive/4YP/Data\n",
            "Adding mosquito noise at 6.676s\n",
            "Adding mosquito noise at 8.74s\n",
            "Adding mosquito noise at 8.996s\n",
            "train/1173.wav has been extracted to ./drive/MyDrive/4YP/Data\n",
            "train/2753.wav has been extracted to ./drive/MyDrive/4YP/Data\n",
            "Adding mosquito noise at 9.818s\n",
            "Adding mosquito noise at 11.76s\n",
            "Adding mosquito noise at 5.16s\n",
            "train/1173.wav has been extracted to ./drive/MyDrive/4YP/Data\n",
            "train/220062.wav has been extracted to ./drive/MyDrive/4YP/Data\n",
            "Adding mosquito noise at 14.075s\n",
            "Adding mosquito noise at 6.714s\n",
            "Adding mosquito noise at 9.11s\n",
            "train/1352.wav has been extracted to ./drive/MyDrive/4YP/Data\n",
            "train/2597.wav has been extracted to ./drive/MyDrive/4YP/Data\n",
            "Adding mosquito noise at 10.59s\n",
            "Adding mosquito noise at 10.402s\n",
            "Adding mosquito noise at 7.85s\n",
            "train/1352.wav has been extracted to ./drive/MyDrive/4YP/Data\n",
            "train/221491.wav has been extracted to ./drive/MyDrive/4YP/Data\n",
            "Adding mosquito noise at 5.09s\n",
            "Adding mosquito noise at 15.074s\n",
            "Adding mosquito noise at 4.828s\n",
            "train/1034.wav has been extracted to ./drive/MyDrive/4YP/Data\n",
            "train/223208.wav has been extracted to ./drive/MyDrive/4YP/Data\n",
            "Adding mosquito noise at 2.578s\n",
            "Adding mosquito noise at 7.592s\n",
            "Adding mosquito noise at 9.683s\n",
            "train/612.wav has been extracted to ./drive/MyDrive/4YP/Data\n",
            "train/220664.wav has been extracted to ./drive/MyDrive/4YP/Data\n",
            "Adding mosquito noise at 19.785s\n",
            "Adding mosquito noise at 22.071s\n",
            "Adding mosquito noise at 14.553s\n",
            "train/817.wav has been extracted to ./drive/MyDrive/4YP/Data\n",
            "train/834.wav has been extracted to ./drive/MyDrive/4YP/Data\n",
            "Adding mosquito noise at 4.736s\n",
            "Adding mosquito noise at 6.286s\n",
            "Adding mosquito noise at 12.926s\n",
            "train/1034.wav has been extracted to ./drive/MyDrive/4YP/Data\n",
            "train/221255.wav has been extracted to ./drive/MyDrive/4YP/Data\n",
            "Adding mosquito noise at 2.064s\n",
            "Adding mosquito noise at 13.272s\n",
            "Adding mosquito noise at 8.275s\n",
            "train/1034.wav has been extracted to ./drive/MyDrive/4YP/Data\n",
            "train/1754.wav has been extracted to ./drive/MyDrive/4YP/Data\n",
            "Adding mosquito noise at 13.357s\n",
            "Adding mosquito noise at 8.012s\n",
            "Adding mosquito noise at 5.58s\n",
            "train/591.wav has been extracted to ./drive/MyDrive/4YP/Data\n",
            "train/2989.wav has been extracted to ./drive/MyDrive/4YP/Data\n",
            "Adding mosquito noise at 15.154s\n",
            "Adding mosquito noise at 12.989s\n",
            "Adding mosquito noise at 5.823s\n",
            "train/222808.wav has been extracted to ./drive/MyDrive/4YP/Data\n",
            "train/220791.wav has been extracted to ./drive/MyDrive/4YP/Data\n",
            "Adding mosquito noise at 9.296s\n",
            "Adding mosquito noise at 11.611s\n",
            "Adding mosquito noise at 12.035s\n",
            "MFCC Matrix shape:(850, 10)\n",
            "Mosquitoness Matrix shape:(850,)\n"
          ]
        }
      ]
    },
    {
      "cell_type": "markdown",
      "source": [
        "## Split into training and dev"
      ],
      "metadata": {
        "id": "s3BvVi_85Hk2"
      }
    },
    {
      "cell_type": "code",
      "source": [
        "from sklearn.model_selection import train_test_split\n",
        "\n",
        "num_mos = np.count_nonzero(cats)\n",
        "num_back = len(cats) - num_mos\n",
        "\n",
        "print(\"Mosquito clips: \" + str(num_mos))\n",
        "print(\"Background clips: \"  + str(num_back))\n",
        "\n",
        "all = np.concatenate((coef,cats.reshape(-1, 1)), axis=1)\n",
        "\n",
        "condition = all[:, 10] > 0\n",
        "mos = all[condition]\n",
        "back = all[~condition]"
      ],
      "metadata": {
        "id": "763mJDNPvpGW",
        "colab": {
          "base_uri": "https://localhost:8080/"
        },
        "outputId": "55b2362a-fe09-4c28-9be2-be18880fd62e"
      },
      "execution_count": null,
      "outputs": [
        {
          "output_type": "stream",
          "name": "stdout",
          "text": [
            "Mosquito clips: 532\n",
            "Background clips: 318\n"
          ]
        }
      ]
    },
    {
      "cell_type": "code",
      "source": [
        "#X_train, X_dev, y_train, y_dev = train_test_split(coef, cats, test_size=0.2, random_state=42)\n",
        "mos1, mos2 = train_test_split(mos, test_size=0.5, random_state=42)\n",
        "back1, back2 = train_test_split(back, test_size=1-(mos1.shape[0]/back.shape[0]),\n",
        "                                random_state=42)\n",
        "\n",
        "rng = np.random.default_rng()\n",
        "\n",
        "train = np.vstack([mos1,back1])\n",
        "dev = np.vstack([mos2,back2])\n",
        "\n",
        "rng.shuffle(train, axis=0)\n",
        "rng.shuffle(dev, axis=0)\n",
        "\n",
        "X_train = train[:, 0:10]\n",
        "y_train = train[:, 10]\n",
        "X_dev = dev[:, 0:10]\n",
        "y_dev = dev[:, 10]\n",
        "\n",
        "num_mos_train = np.count_nonzero(y_train)\n",
        "num_back_train = len(y_train) - num_mos_train\n",
        "num_mos_dev = np.count_nonzero(y_dev)\n",
        "num_back_dev = len(y_dev) - num_mos_dev\n",
        "\n",
        "print(\"num_mos_train: \" + str(num_mos_train))\n",
        "print(\"num_back_train: \" + str(num_back_train))\n",
        "print(\"num_mos_dev: \" + str(num_mos_dev))\n",
        "print(\"num_back_dev: \" + str(num_back_dev))"
      ],
      "metadata": {
        "colab": {
          "base_uri": "https://localhost:8080/"
        },
        "id": "dKtlcJNc0ASQ",
        "outputId": "0d45fa31-4790-4d9c-f830-ba9e6edb675a"
      },
      "execution_count": null,
      "outputs": [
        {
          "output_type": "stream",
          "name": "stdout",
          "text": [
            "num_mos_train: 266\n",
            "num_back_train: 266\n",
            "num_mos_dev: 266\n",
            "num_back_dev: 52\n"
          ]
        }
      ]
    },
    {
      "cell_type": "markdown",
      "source": [
        "## Test out K-nearest neighbor"
      ],
      "metadata": {
        "id": "2OE0vAQW5Lte"
      }
    },
    {
      "cell_type": "code",
      "source": [
        "from sklearn.neighbors import KNeighborsClassifier\n",
        "\n",
        "y_train_b = binarize(y_train)\n",
        "neigh = KNeighborsClassifier(n_neighbors=4)\n",
        "neigh.fit(X_train, y_train_b)\n",
        "y_pred = neigh.predict(X_dev)"
      ],
      "metadata": {
        "id": "gOO4yxE_6rPc"
      },
      "execution_count": null,
      "outputs": []
    },
    {
      "cell_type": "code",
      "source": [
        "y_pred_b = binarize(y_pred)\n",
        "y_dev_b = binarize(y_dev)"
      ],
      "metadata": {
        "id": "eHS6KkgxWfZ5"
      },
      "execution_count": null,
      "outputs": []
    },
    {
      "cell_type": "code",
      "source": [
        "from sklearn.metrics import confusion_matrix, ConfusionMatrixDisplay\n",
        "confusion = confusion_matrix(y_dev_b, y_pred_b)\n",
        "true_pos = confusion[1][1]\n",
        "true_neg = confusion[0][0]\n",
        "false_pos = confusion[0][1]\n",
        "false_neg = confusion[1][0]\n",
        "\n",
        "print(\"True positive: \" + str(true_pos))\n",
        "print(\"True negative: \" + str(true_neg))\n",
        "print(\"False positive: \" + str(false_pos))\n",
        "print(\"False negative: \" + str(false_neg))\n",
        "\n",
        "sensitivity = true_pos/(true_pos+false_neg)\n",
        "specificity = true_neg/(true_neg+false_pos)\n",
        "\n",
        "print(\"Sensitivity: \" + str(sensitivity))\n",
        "print(\"Specificity: \" + str(specificity))\n",
        "print(\"Score: \" + str(specificity+specificity))\n",
        "disp = ConfusionMatrixDisplay(confusion, display_labels = [\"Background\", \"Mosquito\"])\n",
        "disp.plot()\n",
        "plt.show()"
      ],
      "metadata": {
        "colab": {
          "base_uri": "https://localhost:8080/",
          "height": 571
        },
        "id": "NABo75R_-jkm",
        "outputId": "f770a07a-864b-4655-aeb7-2e2b2d6c71eb"
      },
      "execution_count": null,
      "outputs": [
        {
          "output_type": "stream",
          "name": "stdout",
          "text": [
            "True positive: 117\n",
            "True negative: 48\n",
            "False positive: 4\n",
            "False negative: 149\n",
            "Sensitivity: 0.4398496240601504\n",
            "Specificity: 0.9230769230769231\n",
            "Score: 1.8461538461538463\n"
          ]
        },
        {
          "output_type": "display_data",
          "data": {
            "text/plain": [
              "<Figure size 640x480 with 2 Axes>"
            ],
            "image/png": "[encoded data removed]"
          },
          "metadata": {}
        }
      ]
    }
  ]
}